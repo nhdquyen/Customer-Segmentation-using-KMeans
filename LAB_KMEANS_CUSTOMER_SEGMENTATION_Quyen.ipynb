{
  "nbformat": 4,
  "nbformat_minor": 5,
  "metadata": {
    "colab": {
      "name": "LAB_KMEANS_CUSTOMER_SEGMENTATION_Quyen.ipynb",
      "provenance": [],
      "collapsed_sections": [],
      "include_colab_link": true
    },
    "language_info": {
      "name": "python"
    },
    "kernelspec": {
      "name": "python3",
      "display_name": "Python 3"
    },
    "accelerator": "GPU"
  },
  "cells": [
    {
      "cell_type": "markdown",
      "metadata": {
        "id": "view-in-github",
        "colab_type": "text"
      },
      "source": [
        "<a href=\"https://colab.research.google.com/github/nhdquyen/Customer-Segmentation-using-KMeans/blob/main/LAB_KMEANS_CUSTOMER_SEGMENTATION_Quyen.ipynb\" target=\"_parent\"><img src=\"https://colab.research.google.com/assets/colab-badge.svg\" alt=\"Open In Colab\"/></a>"
      ]
    },
    {
      "cell_type": "markdown",
      "metadata": {
        "id": "0d9ed9c5"
      },
      "source": [
        "# LAB_KMEANS_Customer_Segmentation"
      ],
      "id": "0d9ed9c5"
    },
    {
      "cell_type": "markdown",
      "metadata": {
        "id": "1U3KMvwHrys0"
      },
      "source": [
        "If you want to grow your business, it makes sense to put in the effort to understand the characteristics of your customers for at least two reasons: \n",
        "1. To continue to provide this group with what they’re looking for and keep them as customers\n",
        "2. To target your marketing efforts toward prospects who resemble your best customers.\n",
        "\n",
        "By targeting your acquisition marketing through insights into your best customers, you attract customers who are likely to respond to the strengths of your business and remain loyal to it. **Instead of targeting all customers at once, you can start segment your customers and use different strategy for each group. With this approach, you will also focus on your potential customers to develop strategies for them.**\n",
        "\n",
        "But, before you can start to understand your best customers, you first need to identify them. And that’s where a simple database marketing tool called recency, frequency, monetary analysis (or RFM) comes in handy."
      ],
      "id": "1U3KMvwHrys0"
    },
    {
      "cell_type": "markdown",
      "metadata": {
        "id": "ZfCGzLVKrys1"
      },
      "source": [
        "In our example, we will be using a sample dataset of an online retail."
      ],
      "id": "ZfCGzLVKrys1"
    },
    {
      "cell_type": "markdown",
      "metadata": {
        "heading_collapsed": true,
        "id": "DHY_DXMJrys1"
      },
      "source": [
        "# 1 - Import library"
      ],
      "id": "DHY_DXMJrys1"
    },
    {
      "cell_type": "code",
      "metadata": {
        "hidden": true,
        "id": "_ceRsitfrys3"
      },
      "source": [
        "import pandas as pd\n",
        "import matplotlib.pyplot as plt\n",
        "import numpy as np\n",
        "import seaborn as sns"
      ],
      "id": "_ceRsitfrys3",
      "execution_count": 1,
      "outputs": []
    },
    {
      "cell_type": "code",
      "metadata": {
        "colab": {
          "base_uri": "https://localhost:8080/"
        },
        "id": "OOkeBPrUD9yK",
        "outputId": "7faf185c-9ce7-4371-f807-710cd7a20b0a"
      },
      "source": [
        "from google.colab import drive\n",
        "drive.mount('/content/drive')"
      ],
      "id": "OOkeBPrUD9yK",
      "execution_count": null,
      "outputs": [
        {
          "output_type": "stream",
          "name": "stdout",
          "text": [
            "Mounted at /content/drive\n"
          ]
        }
      ]
    },
    {
      "cell_type": "code",
      "metadata": {
        "id": "yvGgs5ZkED0p"
      },
      "source": [
        "PATH = '/content/drive/MyDrive/FTMLE | 2021.09 | South Sandwich/Data/OnlineRetail.csv'"
      ],
      "id": "yvGgs5ZkED0p",
      "execution_count": null,
      "outputs": []
    },
    {
      "cell_type": "markdown",
      "metadata": {
        "id": "n8BjvxZJrys3"
      },
      "source": [
        "# 2 - Load dataset"
      ],
      "id": "n8BjvxZJrys3"
    },
    {
      "cell_type": "markdown",
      "metadata": {
        "id": "6ZcV2DKhrys3"
      },
      "source": [
        "This dataset contains all purchases made for an online retail company based in the UK during an eight month period."
      ],
      "id": "6ZcV2DKhrys3"
    },
    {
      "cell_type": "code",
      "metadata": {
        "id": "jxDznA8brys4"
      },
      "source": [
        "df= pd.read_csv(PATH,encoding = \"unicode_escape\")"
      ],
      "id": "jxDznA8brys4",
      "execution_count": null,
      "outputs": []
    },
    {
      "cell_type": "code",
      "metadata": {
        "id": "e1cKl1lqrys4",
        "colab": {
          "base_uri": "https://localhost:8080/",
          "height": 206
        },
        "outputId": "c3ed4984-7e15-4eee-8764-cab1294f42c7"
      },
      "source": [
        "df.head()"
      ],
      "id": "e1cKl1lqrys4",
      "execution_count": null,
      "outputs": [
        {
          "output_type": "execute_result",
          "data": {
            "text/html": [
              "<div>\n",
              "<style scoped>\n",
              "    .dataframe tbody tr th:only-of-type {\n",
              "        vertical-align: middle;\n",
              "    }\n",
              "\n",
              "    .dataframe tbody tr th {\n",
              "        vertical-align: top;\n",
              "    }\n",
              "\n",
              "    .dataframe thead th {\n",
              "        text-align: right;\n",
              "    }\n",
              "</style>\n",
              "<table border=\"1\" class=\"dataframe\">\n",
              "  <thead>\n",
              "    <tr style=\"text-align: right;\">\n",
              "      <th></th>\n",
              "      <th>InvoiceNo</th>\n",
              "      <th>StockCode</th>\n",
              "      <th>Description</th>\n",
              "      <th>Quantity</th>\n",
              "      <th>InvoiceDate</th>\n",
              "      <th>UnitPrice</th>\n",
              "      <th>CustomerID</th>\n",
              "      <th>Country</th>\n",
              "    </tr>\n",
              "  </thead>\n",
              "  <tbody>\n",
              "    <tr>\n",
              "      <th>0</th>\n",
              "      <td>536365</td>\n",
              "      <td>85123A</td>\n",
              "      <td>WHITE HANGING HEART T-LIGHT HOLDER</td>\n",
              "      <td>6</td>\n",
              "      <td>12/1/2010 8:26</td>\n",
              "      <td>2.55</td>\n",
              "      <td>17850.0</td>\n",
              "      <td>United Kingdom</td>\n",
              "    </tr>\n",
              "    <tr>\n",
              "      <th>1</th>\n",
              "      <td>536365</td>\n",
              "      <td>71053</td>\n",
              "      <td>WHITE METAL LANTERN</td>\n",
              "      <td>6</td>\n",
              "      <td>12/1/2010 8:26</td>\n",
              "      <td>3.39</td>\n",
              "      <td>17850.0</td>\n",
              "      <td>United Kingdom</td>\n",
              "    </tr>\n",
              "    <tr>\n",
              "      <th>2</th>\n",
              "      <td>536365</td>\n",
              "      <td>84406B</td>\n",
              "      <td>CREAM CUPID HEARTS COAT HANGER</td>\n",
              "      <td>8</td>\n",
              "      <td>12/1/2010 8:26</td>\n",
              "      <td>2.75</td>\n",
              "      <td>17850.0</td>\n",
              "      <td>United Kingdom</td>\n",
              "    </tr>\n",
              "    <tr>\n",
              "      <th>3</th>\n",
              "      <td>536365</td>\n",
              "      <td>84029G</td>\n",
              "      <td>KNITTED UNION FLAG HOT WATER BOTTLE</td>\n",
              "      <td>6</td>\n",
              "      <td>12/1/2010 8:26</td>\n",
              "      <td>3.39</td>\n",
              "      <td>17850.0</td>\n",
              "      <td>United Kingdom</td>\n",
              "    </tr>\n",
              "    <tr>\n",
              "      <th>4</th>\n",
              "      <td>536365</td>\n",
              "      <td>84029E</td>\n",
              "      <td>RED WOOLLY HOTTIE WHITE HEART.</td>\n",
              "      <td>6</td>\n",
              "      <td>12/1/2010 8:26</td>\n",
              "      <td>3.39</td>\n",
              "      <td>17850.0</td>\n",
              "      <td>United Kingdom</td>\n",
              "    </tr>\n",
              "  </tbody>\n",
              "</table>\n",
              "</div>"
            ],
            "text/plain": [
              "  InvoiceNo StockCode  ... CustomerID         Country\n",
              "0    536365    85123A  ...    17850.0  United Kingdom\n",
              "1    536365     71053  ...    17850.0  United Kingdom\n",
              "2    536365    84406B  ...    17850.0  United Kingdom\n",
              "3    536365    84029G  ...    17850.0  United Kingdom\n",
              "4    536365    84029E  ...    17850.0  United Kingdom\n",
              "\n",
              "[5 rows x 8 columns]"
            ]
          },
          "metadata": {},
          "execution_count": 7
        }
      ]
    },
    {
      "cell_type": "code",
      "metadata": {
        "colab": {
          "base_uri": "https://localhost:8080/"
        },
        "id": "H2m1E6Q8Agxv",
        "outputId": "c5d3bc22-704e-47b1-fb19-190603b3fbeb"
      },
      "source": [
        "# inspect timeline of year-month\n",
        "(pd.to_datetime(df.InvoiceDate).dt.year.astype('str') + pd.to_datetime(df.InvoiceDate).dt.month.astype('str')).unique()"
      ],
      "id": "H2m1E6Q8Agxv",
      "execution_count": null,
      "outputs": [
        {
          "output_type": "execute_result",
          "data": {
            "text/plain": [
              "array(['201012', '20111', '20112', '20113', '20114', '20115', '20116',\n",
              "       '20117', '20118', '20119', '201110', '201111', '201112'],\n",
              "      dtype=object)"
            ]
          },
          "metadata": {},
          "execution_count": 8
        }
      ]
    },
    {
      "cell_type": "markdown",
      "metadata": {
        "id": "S6VKZ67srys5"
      },
      "source": [
        "# 3 - Clean our data"
      ],
      "id": "S6VKZ67srys5"
    },
    {
      "cell_type": "markdown",
      "metadata": {
        "id": "iTtDLJWeSxiM"
      },
      "source": [
        "By looking at the data and each columns, you should be able to investigate a bit and do some basic cleaning. We will **drop** some errornous records (or records that don't make sense)\n"
      ],
      "id": "iTtDLJWeSxiM"
    },
    {
      "cell_type": "code",
      "metadata": {
        "id": "5k0KnVnErys5"
      },
      "source": [
        "def drop_values(df):\n",
        "\n",
        "    # For this problem, we will only look at UK market\n",
        "    df.drop(df[df.Country!='United Kingdom'].index, inplace=True)\n",
        "    df.drop('Country',axis=1,inplace=True)\n",
        "\n",
        "    # only 1 negative unit price\n",
        "    df.drop(df[df['UnitPrice']<0].index, inplace = True) \n",
        "    \n",
        "    # drop some erroneous records\n",
        "    df.drop(df[(df['Quantity']<0) & (df['UnitPrice']==0)].index,inplace=True)\n",
        "    \n",
        "    # drop nan description\n",
        "    df.drop(df[df['Description'].isna()].index,inplace=True)\n",
        "    df.drop(df[df['CustomerID'].isna()].index,inplace=True)"
      ],
      "id": "5k0KnVnErys5",
      "execution_count": null,
      "outputs": []
    },
    {
      "cell_type": "code",
      "metadata": {
        "colab": {
          "base_uri": "https://localhost:8080/",
          "height": 423
        },
        "id": "9oy3EjbxUUsP",
        "outputId": "8ea05f82-8306-4746-d063-177113e1cdbd"
      },
      "source": [
        "# run function\n",
        "drop_values(df)\n",
        "df"
      ],
      "id": "9oy3EjbxUUsP",
      "execution_count": null,
      "outputs": [
        {
          "output_type": "execute_result",
          "data": {
            "text/html": [
              "<div>\n",
              "<style scoped>\n",
              "    .dataframe tbody tr th:only-of-type {\n",
              "        vertical-align: middle;\n",
              "    }\n",
              "\n",
              "    .dataframe tbody tr th {\n",
              "        vertical-align: top;\n",
              "    }\n",
              "\n",
              "    .dataframe thead th {\n",
              "        text-align: right;\n",
              "    }\n",
              "</style>\n",
              "<table border=\"1\" class=\"dataframe\">\n",
              "  <thead>\n",
              "    <tr style=\"text-align: right;\">\n",
              "      <th></th>\n",
              "      <th>InvoiceNo</th>\n",
              "      <th>StockCode</th>\n",
              "      <th>Description</th>\n",
              "      <th>Quantity</th>\n",
              "      <th>InvoiceDate</th>\n",
              "      <th>UnitPrice</th>\n",
              "      <th>CustomerID</th>\n",
              "    </tr>\n",
              "  </thead>\n",
              "  <tbody>\n",
              "    <tr>\n",
              "      <th>0</th>\n",
              "      <td>536365</td>\n",
              "      <td>85123A</td>\n",
              "      <td>WHITE HANGING HEART T-LIGHT HOLDER</td>\n",
              "      <td>6</td>\n",
              "      <td>12/1/2010 8:26</td>\n",
              "      <td>2.55</td>\n",
              "      <td>17850.0</td>\n",
              "    </tr>\n",
              "    <tr>\n",
              "      <th>1</th>\n",
              "      <td>536365</td>\n",
              "      <td>71053</td>\n",
              "      <td>WHITE METAL LANTERN</td>\n",
              "      <td>6</td>\n",
              "      <td>12/1/2010 8:26</td>\n",
              "      <td>3.39</td>\n",
              "      <td>17850.0</td>\n",
              "    </tr>\n",
              "    <tr>\n",
              "      <th>2</th>\n",
              "      <td>536365</td>\n",
              "      <td>84406B</td>\n",
              "      <td>CREAM CUPID HEARTS COAT HANGER</td>\n",
              "      <td>8</td>\n",
              "      <td>12/1/2010 8:26</td>\n",
              "      <td>2.75</td>\n",
              "      <td>17850.0</td>\n",
              "    </tr>\n",
              "    <tr>\n",
              "      <th>3</th>\n",
              "      <td>536365</td>\n",
              "      <td>84029G</td>\n",
              "      <td>KNITTED UNION FLAG HOT WATER BOTTLE</td>\n",
              "      <td>6</td>\n",
              "      <td>12/1/2010 8:26</td>\n",
              "      <td>3.39</td>\n",
              "      <td>17850.0</td>\n",
              "    </tr>\n",
              "    <tr>\n",
              "      <th>4</th>\n",
              "      <td>536365</td>\n",
              "      <td>84029E</td>\n",
              "      <td>RED WOOLLY HOTTIE WHITE HEART.</td>\n",
              "      <td>6</td>\n",
              "      <td>12/1/2010 8:26</td>\n",
              "      <td>3.39</td>\n",
              "      <td>17850.0</td>\n",
              "    </tr>\n",
              "    <tr>\n",
              "      <th>...</th>\n",
              "      <td>...</td>\n",
              "      <td>...</td>\n",
              "      <td>...</td>\n",
              "      <td>...</td>\n",
              "      <td>...</td>\n",
              "      <td>...</td>\n",
              "      <td>...</td>\n",
              "    </tr>\n",
              "    <tr>\n",
              "      <th>541889</th>\n",
              "      <td>581585</td>\n",
              "      <td>22466</td>\n",
              "      <td>FAIRY TALE COTTAGE NIGHT LIGHT</td>\n",
              "      <td>12</td>\n",
              "      <td>12/9/2011 12:31</td>\n",
              "      <td>1.95</td>\n",
              "      <td>15804.0</td>\n",
              "    </tr>\n",
              "    <tr>\n",
              "      <th>541890</th>\n",
              "      <td>581586</td>\n",
              "      <td>22061</td>\n",
              "      <td>LARGE CAKE STAND  HANGING STRAWBERY</td>\n",
              "      <td>8</td>\n",
              "      <td>12/9/2011 12:49</td>\n",
              "      <td>2.95</td>\n",
              "      <td>13113.0</td>\n",
              "    </tr>\n",
              "    <tr>\n",
              "      <th>541891</th>\n",
              "      <td>581586</td>\n",
              "      <td>23275</td>\n",
              "      <td>SET OF 3 HANGING OWLS OLLIE BEAK</td>\n",
              "      <td>24</td>\n",
              "      <td>12/9/2011 12:49</td>\n",
              "      <td>1.25</td>\n",
              "      <td>13113.0</td>\n",
              "    </tr>\n",
              "    <tr>\n",
              "      <th>541892</th>\n",
              "      <td>581586</td>\n",
              "      <td>21217</td>\n",
              "      <td>RED RETROSPOT ROUND CAKE TINS</td>\n",
              "      <td>24</td>\n",
              "      <td>12/9/2011 12:49</td>\n",
              "      <td>8.95</td>\n",
              "      <td>13113.0</td>\n",
              "    </tr>\n",
              "    <tr>\n",
              "      <th>541893</th>\n",
              "      <td>581586</td>\n",
              "      <td>20685</td>\n",
              "      <td>DOORMAT RED RETROSPOT</td>\n",
              "      <td>10</td>\n",
              "      <td>12/9/2011 12:49</td>\n",
              "      <td>7.08</td>\n",
              "      <td>13113.0</td>\n",
              "    </tr>\n",
              "  </tbody>\n",
              "</table>\n",
              "<p>361878 rows × 7 columns</p>\n",
              "</div>"
            ],
            "text/plain": [
              "       InvoiceNo StockCode  ... UnitPrice  CustomerID\n",
              "0         536365    85123A  ...      2.55     17850.0\n",
              "1         536365     71053  ...      3.39     17850.0\n",
              "2         536365    84406B  ...      2.75     17850.0\n",
              "3         536365    84029G  ...      3.39     17850.0\n",
              "4         536365    84029E  ...      3.39     17850.0\n",
              "...          ...       ...  ...       ...         ...\n",
              "541889    581585     22466  ...      1.95     15804.0\n",
              "541890    581586     22061  ...      2.95     13113.0\n",
              "541891    581586     23275  ...      1.25     13113.0\n",
              "541892    581586     21217  ...      8.95     13113.0\n",
              "541893    581586     20685  ...      7.08     13113.0\n",
              "\n",
              "[361878 rows x 7 columns]"
            ]
          },
          "metadata": {},
          "execution_count": 11
        }
      ]
    },
    {
      "cell_type": "markdown",
      "metadata": {
        "heading_collapsed": true,
        "id": "eVj2F5pdrys8"
      },
      "source": [
        "# 4 - Feature engineering"
      ],
      "id": "eVj2F5pdrys8"
    },
    {
      "cell_type": "markdown",
      "metadata": {
        "id": "K5QIOHpJc7QO"
      },
      "source": [
        "For this section, we will create some features that we think is going to be useful for our data analysis/visualization and our end goal: **segment customer into different groups**. There is one new column that you can create immediately from this datasetdataset, that is Revenue"
      ],
      "id": "K5QIOHpJc7QO"
    },
    {
      "cell_type": "code",
      "metadata": {
        "hidden": true,
        "id": "Z1qI1gu-rys8"
      },
      "source": [
        "def create_date_features(df,date_feature):\n",
        "    df[date_feature] = pd.to_datetime(df[date_feature])\n",
        "    df['Year'] = df[date_feature].dt.year\n",
        "    df['Month'] = df[date_feature].dt.month\n",
        "    df['Day'] = df[date_feature].dt.day\n",
        "    df['DayOfWeek'] = df[date_feature].dt.day\n",
        "    df['WeekOfYear']= df[date_feature].dt.week"
      ],
      "id": "Z1qI1gu-rys8",
      "execution_count": null,
      "outputs": []
    },
    {
      "cell_type": "code",
      "metadata": {
        "colab": {
          "base_uri": "https://localhost:8080/",
          "height": 206
        },
        "id": "jADcGZ2PMwBj",
        "outputId": "e73f2009-611d-4828-c70e-3f8d5e271c47"
      },
      "source": [
        "create_date_features(df,'InvoiceDate')\n",
        "df.head()"
      ],
      "id": "jADcGZ2PMwBj",
      "execution_count": null,
      "outputs": [
        {
          "output_type": "execute_result",
          "data": {
            "text/html": [
              "<div>\n",
              "<style scoped>\n",
              "    .dataframe tbody tr th:only-of-type {\n",
              "        vertical-align: middle;\n",
              "    }\n",
              "\n",
              "    .dataframe tbody tr th {\n",
              "        vertical-align: top;\n",
              "    }\n",
              "\n",
              "    .dataframe thead th {\n",
              "        text-align: right;\n",
              "    }\n",
              "</style>\n",
              "<table border=\"1\" class=\"dataframe\">\n",
              "  <thead>\n",
              "    <tr style=\"text-align: right;\">\n",
              "      <th></th>\n",
              "      <th>InvoiceNo</th>\n",
              "      <th>StockCode</th>\n",
              "      <th>Description</th>\n",
              "      <th>Quantity</th>\n",
              "      <th>InvoiceDate</th>\n",
              "      <th>UnitPrice</th>\n",
              "      <th>CustomerID</th>\n",
              "      <th>Year</th>\n",
              "      <th>Month</th>\n",
              "      <th>Day</th>\n",
              "      <th>DayOfWeek</th>\n",
              "      <th>WeekOfYear</th>\n",
              "    </tr>\n",
              "  </thead>\n",
              "  <tbody>\n",
              "    <tr>\n",
              "      <th>0</th>\n",
              "      <td>536365</td>\n",
              "      <td>85123A</td>\n",
              "      <td>WHITE HANGING HEART T-LIGHT HOLDER</td>\n",
              "      <td>6</td>\n",
              "      <td>2010-12-01 08:26:00</td>\n",
              "      <td>2.55</td>\n",
              "      <td>17850.0</td>\n",
              "      <td>2010</td>\n",
              "      <td>12</td>\n",
              "      <td>1</td>\n",
              "      <td>1</td>\n",
              "      <td>48</td>\n",
              "    </tr>\n",
              "    <tr>\n",
              "      <th>1</th>\n",
              "      <td>536365</td>\n",
              "      <td>71053</td>\n",
              "      <td>WHITE METAL LANTERN</td>\n",
              "      <td>6</td>\n",
              "      <td>2010-12-01 08:26:00</td>\n",
              "      <td>3.39</td>\n",
              "      <td>17850.0</td>\n",
              "      <td>2010</td>\n",
              "      <td>12</td>\n",
              "      <td>1</td>\n",
              "      <td>1</td>\n",
              "      <td>48</td>\n",
              "    </tr>\n",
              "    <tr>\n",
              "      <th>2</th>\n",
              "      <td>536365</td>\n",
              "      <td>84406B</td>\n",
              "      <td>CREAM CUPID HEARTS COAT HANGER</td>\n",
              "      <td>8</td>\n",
              "      <td>2010-12-01 08:26:00</td>\n",
              "      <td>2.75</td>\n",
              "      <td>17850.0</td>\n",
              "      <td>2010</td>\n",
              "      <td>12</td>\n",
              "      <td>1</td>\n",
              "      <td>1</td>\n",
              "      <td>48</td>\n",
              "    </tr>\n",
              "    <tr>\n",
              "      <th>3</th>\n",
              "      <td>536365</td>\n",
              "      <td>84029G</td>\n",
              "      <td>KNITTED UNION FLAG HOT WATER BOTTLE</td>\n",
              "      <td>6</td>\n",
              "      <td>2010-12-01 08:26:00</td>\n",
              "      <td>3.39</td>\n",
              "      <td>17850.0</td>\n",
              "      <td>2010</td>\n",
              "      <td>12</td>\n",
              "      <td>1</td>\n",
              "      <td>1</td>\n",
              "      <td>48</td>\n",
              "    </tr>\n",
              "    <tr>\n",
              "      <th>4</th>\n",
              "      <td>536365</td>\n",
              "      <td>84029E</td>\n",
              "      <td>RED WOOLLY HOTTIE WHITE HEART.</td>\n",
              "      <td>6</td>\n",
              "      <td>2010-12-01 08:26:00</td>\n",
              "      <td>3.39</td>\n",
              "      <td>17850.0</td>\n",
              "      <td>2010</td>\n",
              "      <td>12</td>\n",
              "      <td>1</td>\n",
              "      <td>1</td>\n",
              "      <td>48</td>\n",
              "    </tr>\n",
              "  </tbody>\n",
              "</table>\n",
              "</div>"
            ],
            "text/plain": [
              "  InvoiceNo StockCode  ... DayOfWeek  WeekOfYear\n",
              "0    536365    85123A  ...         1          48\n",
              "1    536365     71053  ...         1          48\n",
              "2    536365    84406B  ...         1          48\n",
              "3    536365    84029G  ...         1          48\n",
              "4    536365    84029E  ...         1          48\n",
              "\n",
              "[5 rows x 12 columns]"
            ]
          },
          "metadata": {},
          "execution_count": 14
        }
      ]
    },
    {
      "cell_type": "code",
      "metadata": {
        "colab": {
          "base_uri": "https://localhost:8080/",
          "height": 206
        },
        "id": "Y3-ucjfsF9_O",
        "outputId": "f3f32100-777f-4ab6-d80f-97dd962955e8"
      },
      "source": [
        "# Create column that shows Revenue\n",
        "df['Revenue'] = df['Quantity'] * df['UnitPrice']\n",
        "df.head()"
      ],
      "id": "Y3-ucjfsF9_O",
      "execution_count": null,
      "outputs": [
        {
          "output_type": "execute_result",
          "data": {
            "text/html": [
              "<div>\n",
              "<style scoped>\n",
              "    .dataframe tbody tr th:only-of-type {\n",
              "        vertical-align: middle;\n",
              "    }\n",
              "\n",
              "    .dataframe tbody tr th {\n",
              "        vertical-align: top;\n",
              "    }\n",
              "\n",
              "    .dataframe thead th {\n",
              "        text-align: right;\n",
              "    }\n",
              "</style>\n",
              "<table border=\"1\" class=\"dataframe\">\n",
              "  <thead>\n",
              "    <tr style=\"text-align: right;\">\n",
              "      <th></th>\n",
              "      <th>InvoiceNo</th>\n",
              "      <th>StockCode</th>\n",
              "      <th>Description</th>\n",
              "      <th>Quantity</th>\n",
              "      <th>InvoiceDate</th>\n",
              "      <th>UnitPrice</th>\n",
              "      <th>CustomerID</th>\n",
              "      <th>Year</th>\n",
              "      <th>Month</th>\n",
              "      <th>Day</th>\n",
              "      <th>DayOfWeek</th>\n",
              "      <th>WeekOfYear</th>\n",
              "      <th>Revenue</th>\n",
              "    </tr>\n",
              "  </thead>\n",
              "  <tbody>\n",
              "    <tr>\n",
              "      <th>0</th>\n",
              "      <td>536365</td>\n",
              "      <td>85123A</td>\n",
              "      <td>WHITE HANGING HEART T-LIGHT HOLDER</td>\n",
              "      <td>6</td>\n",
              "      <td>2010-12-01 08:26:00</td>\n",
              "      <td>2.55</td>\n",
              "      <td>17850.0</td>\n",
              "      <td>2010</td>\n",
              "      <td>12</td>\n",
              "      <td>1</td>\n",
              "      <td>1</td>\n",
              "      <td>48</td>\n",
              "      <td>15.30</td>\n",
              "    </tr>\n",
              "    <tr>\n",
              "      <th>1</th>\n",
              "      <td>536365</td>\n",
              "      <td>71053</td>\n",
              "      <td>WHITE METAL LANTERN</td>\n",
              "      <td>6</td>\n",
              "      <td>2010-12-01 08:26:00</td>\n",
              "      <td>3.39</td>\n",
              "      <td>17850.0</td>\n",
              "      <td>2010</td>\n",
              "      <td>12</td>\n",
              "      <td>1</td>\n",
              "      <td>1</td>\n",
              "      <td>48</td>\n",
              "      <td>20.34</td>\n",
              "    </tr>\n",
              "    <tr>\n",
              "      <th>2</th>\n",
              "      <td>536365</td>\n",
              "      <td>84406B</td>\n",
              "      <td>CREAM CUPID HEARTS COAT HANGER</td>\n",
              "      <td>8</td>\n",
              "      <td>2010-12-01 08:26:00</td>\n",
              "      <td>2.75</td>\n",
              "      <td>17850.0</td>\n",
              "      <td>2010</td>\n",
              "      <td>12</td>\n",
              "      <td>1</td>\n",
              "      <td>1</td>\n",
              "      <td>48</td>\n",
              "      <td>22.00</td>\n",
              "    </tr>\n",
              "    <tr>\n",
              "      <th>3</th>\n",
              "      <td>536365</td>\n",
              "      <td>84029G</td>\n",
              "      <td>KNITTED UNION FLAG HOT WATER BOTTLE</td>\n",
              "      <td>6</td>\n",
              "      <td>2010-12-01 08:26:00</td>\n",
              "      <td>3.39</td>\n",
              "      <td>17850.0</td>\n",
              "      <td>2010</td>\n",
              "      <td>12</td>\n",
              "      <td>1</td>\n",
              "      <td>1</td>\n",
              "      <td>48</td>\n",
              "      <td>20.34</td>\n",
              "    </tr>\n",
              "    <tr>\n",
              "      <th>4</th>\n",
              "      <td>536365</td>\n",
              "      <td>84029E</td>\n",
              "      <td>RED WOOLLY HOTTIE WHITE HEART.</td>\n",
              "      <td>6</td>\n",
              "      <td>2010-12-01 08:26:00</td>\n",
              "      <td>3.39</td>\n",
              "      <td>17850.0</td>\n",
              "      <td>2010</td>\n",
              "      <td>12</td>\n",
              "      <td>1</td>\n",
              "      <td>1</td>\n",
              "      <td>48</td>\n",
              "      <td>20.34</td>\n",
              "    </tr>\n",
              "  </tbody>\n",
              "</table>\n",
              "</div>"
            ],
            "text/plain": [
              "  InvoiceNo StockCode  ... WeekOfYear  Revenue\n",
              "0    536365    85123A  ...         48    15.30\n",
              "1    536365     71053  ...         48    20.34\n",
              "2    536365    84406B  ...         48    22.00\n",
              "3    536365    84029G  ...         48    20.34\n",
              "4    536365    84029E  ...         48    20.34\n",
              "\n",
              "[5 rows x 13 columns]"
            ]
          },
          "metadata": {},
          "execution_count": 14
        }
      ]
    },
    {
      "cell_type": "markdown",
      "metadata": {
        "heading_collapsed": true,
        "id": "ex5axdsGrys-"
      },
      "source": [
        "# 5 - Calculate New Customer Ratio, Retention Rate and perform visualization using pandas and seaborn"
      ],
      "id": "ex5axdsGrys-"
    },
    {
      "cell_type": "code",
      "metadata": {
        "hidden": true,
        "id": "ziMLaC4Irys-"
      },
      "source": [
        "# let's make a copy of our dataframe since df is a mutable data type\n",
        "df_plots = df.copy()"
      ],
      "id": "ziMLaC4Irys-",
      "execution_count": null,
      "outputs": []
    },
    {
      "cell_type": "markdown",
      "metadata": {
        "hidden": true,
        "id": "X-yxrKVRrys-"
      },
      "source": [
        "For an online retail, we can select our metric (something that can help the company grows) as **Monthly Revenue**. Let’s see how our data look like on jupyter notebook."
      ],
      "id": "X-yxrKVRrys-"
    },
    {
      "cell_type": "markdown",
      "metadata": {
        "id": "UjSPoUH262nt"
      },
      "source": [
        "**Important**: For the rest of the EDA, we will calculate some metrics **monthly**, so it will be convenient that for our dataframe, we can add a column to show year + month. We will call this column **InvoiceYearMonth**"
      ],
      "id": "UjSPoUH262nt"
    },
    {
      "cell_type": "code",
      "metadata": {
        "colab": {
          "base_uri": "https://localhost:8080/"
        },
        "id": "4wl0r8ygdpdU",
        "outputId": "d4cc6aa3-d072-45ae-9727-d210cd9f9053"
      },
      "source": [
        "df_plots['InvoiceDate'][0].year"
      ],
      "id": "4wl0r8ygdpdU",
      "execution_count": null,
      "outputs": [
        {
          "output_type": "execute_result",
          "data": {
            "text/plain": [
              "2010"
            ]
          },
          "metadata": {},
          "execution_count": 21
        }
      ]
    },
    {
      "cell_type": "code",
      "metadata": {
        "colab": {
          "base_uri": "https://localhost:8080/",
          "height": 206
        },
        "id": "YbmwwpK3fYUI",
        "outputId": "a31cc3e4-de8f-45b6-f417-023e7437ef78"
      },
      "source": [
        "# self-note: iterator của map là cột InvoiceDate, lấy từng dòng (kết quả của 1 lần iter) .year/.month để extract phần tử tương ứng\n",
        "df_plots['InvoiceYearMonth'] = df_plots['InvoiceDate'].map(lambda date: 100*date.year + date.month) \n",
        "df_plots.head()"
      ],
      "id": "YbmwwpK3fYUI",
      "execution_count": null,
      "outputs": [
        {
          "output_type": "execute_result",
          "data": {
            "text/html": [
              "<div>\n",
              "<style scoped>\n",
              "    .dataframe tbody tr th:only-of-type {\n",
              "        vertical-align: middle;\n",
              "    }\n",
              "\n",
              "    .dataframe tbody tr th {\n",
              "        vertical-align: top;\n",
              "    }\n",
              "\n",
              "    .dataframe thead th {\n",
              "        text-align: right;\n",
              "    }\n",
              "</style>\n",
              "<table border=\"1\" class=\"dataframe\">\n",
              "  <thead>\n",
              "    <tr style=\"text-align: right;\">\n",
              "      <th></th>\n",
              "      <th>InvoiceNo</th>\n",
              "      <th>StockCode</th>\n",
              "      <th>Description</th>\n",
              "      <th>Quantity</th>\n",
              "      <th>InvoiceDate</th>\n",
              "      <th>UnitPrice</th>\n",
              "      <th>CustomerID</th>\n",
              "      <th>Year</th>\n",
              "      <th>Month</th>\n",
              "      <th>Day</th>\n",
              "      <th>DayOfWeek</th>\n",
              "      <th>WeekOfYear</th>\n",
              "      <th>Revenue</th>\n",
              "      <th>InvoiceYearMonth</th>\n",
              "    </tr>\n",
              "  </thead>\n",
              "  <tbody>\n",
              "    <tr>\n",
              "      <th>0</th>\n",
              "      <td>536365</td>\n",
              "      <td>85123A</td>\n",
              "      <td>WHITE HANGING HEART T-LIGHT HOLDER</td>\n",
              "      <td>6</td>\n",
              "      <td>2010-12-01 08:26:00</td>\n",
              "      <td>2.55</td>\n",
              "      <td>17850.0</td>\n",
              "      <td>2010</td>\n",
              "      <td>12</td>\n",
              "      <td>1</td>\n",
              "      <td>1</td>\n",
              "      <td>48</td>\n",
              "      <td>15.30</td>\n",
              "      <td>201012</td>\n",
              "    </tr>\n",
              "    <tr>\n",
              "      <th>1</th>\n",
              "      <td>536365</td>\n",
              "      <td>71053</td>\n",
              "      <td>WHITE METAL LANTERN</td>\n",
              "      <td>6</td>\n",
              "      <td>2010-12-01 08:26:00</td>\n",
              "      <td>3.39</td>\n",
              "      <td>17850.0</td>\n",
              "      <td>2010</td>\n",
              "      <td>12</td>\n",
              "      <td>1</td>\n",
              "      <td>1</td>\n",
              "      <td>48</td>\n",
              "      <td>20.34</td>\n",
              "      <td>201012</td>\n",
              "    </tr>\n",
              "    <tr>\n",
              "      <th>2</th>\n",
              "      <td>536365</td>\n",
              "      <td>84406B</td>\n",
              "      <td>CREAM CUPID HEARTS COAT HANGER</td>\n",
              "      <td>8</td>\n",
              "      <td>2010-12-01 08:26:00</td>\n",
              "      <td>2.75</td>\n",
              "      <td>17850.0</td>\n",
              "      <td>2010</td>\n",
              "      <td>12</td>\n",
              "      <td>1</td>\n",
              "      <td>1</td>\n",
              "      <td>48</td>\n",
              "      <td>22.00</td>\n",
              "      <td>201012</td>\n",
              "    </tr>\n",
              "    <tr>\n",
              "      <th>3</th>\n",
              "      <td>536365</td>\n",
              "      <td>84029G</td>\n",
              "      <td>KNITTED UNION FLAG HOT WATER BOTTLE</td>\n",
              "      <td>6</td>\n",
              "      <td>2010-12-01 08:26:00</td>\n",
              "      <td>3.39</td>\n",
              "      <td>17850.0</td>\n",
              "      <td>2010</td>\n",
              "      <td>12</td>\n",
              "      <td>1</td>\n",
              "      <td>1</td>\n",
              "      <td>48</td>\n",
              "      <td>20.34</td>\n",
              "      <td>201012</td>\n",
              "    </tr>\n",
              "    <tr>\n",
              "      <th>4</th>\n",
              "      <td>536365</td>\n",
              "      <td>84029E</td>\n",
              "      <td>RED WOOLLY HOTTIE WHITE HEART.</td>\n",
              "      <td>6</td>\n",
              "      <td>2010-12-01 08:26:00</td>\n",
              "      <td>3.39</td>\n",
              "      <td>17850.0</td>\n",
              "      <td>2010</td>\n",
              "      <td>12</td>\n",
              "      <td>1</td>\n",
              "      <td>1</td>\n",
              "      <td>48</td>\n",
              "      <td>20.34</td>\n",
              "      <td>201012</td>\n",
              "    </tr>\n",
              "  </tbody>\n",
              "</table>\n",
              "</div>"
            ],
            "text/plain": [
              "  InvoiceNo StockCode  ... Revenue  InvoiceYearMonth\n",
              "0    536365    85123A  ...   15.30            201012\n",
              "1    536365     71053  ...   20.34            201012\n",
              "2    536365    84406B  ...   22.00            201012\n",
              "3    536365    84029G  ...   20.34            201012\n",
              "4    536365    84029E  ...   20.34            201012\n",
              "\n",
              "[5 rows x 14 columns]"
            ]
          },
          "metadata": {},
          "execution_count": 23
        }
      ]
    },
    {
      "cell_type": "markdown",
      "metadata": {
        "hidden": true,
        "id": "k_SOTWFArys_"
      },
      "source": [
        "## Monthly Revenue and Percentage change for each month"
      ],
      "id": "k_SOTWFArys_"
    },
    {
      "cell_type": "code",
      "metadata": {
        "id": "Xtz6UtBkhy3A",
        "colab": {
          "base_uri": "https://localhost:8080/",
          "height": 206
        },
        "outputId": "dcdf1e0a-461c-4dc7-f2e6-af6aca2e61f6"
      },
      "source": [
        "# create a dataframe that stores the revenue for each month\n",
        "monthly_revenue = df_plots.groupby('InvoiceYearMonth')['Revenue'].sum().reset_index()\n",
        "monthly_revenue.head(5)"
      ],
      "id": "Xtz6UtBkhy3A",
      "execution_count": null,
      "outputs": [
        {
          "output_type": "execute_result",
          "data": {
            "text/html": [
              "<div>\n",
              "<style scoped>\n",
              "    .dataframe tbody tr th:only-of-type {\n",
              "        vertical-align: middle;\n",
              "    }\n",
              "\n",
              "    .dataframe tbody tr th {\n",
              "        vertical-align: top;\n",
              "    }\n",
              "\n",
              "    .dataframe thead th {\n",
              "        text-align: right;\n",
              "    }\n",
              "</style>\n",
              "<table border=\"1\" class=\"dataframe\">\n",
              "  <thead>\n",
              "    <tr style=\"text-align: right;\">\n",
              "      <th></th>\n",
              "      <th>InvoiceYearMonth</th>\n",
              "      <th>Revenue</th>\n",
              "    </tr>\n",
              "  </thead>\n",
              "  <tbody>\n",
              "    <tr>\n",
              "      <th>0</th>\n",
              "      <td>201012</td>\n",
              "      <td>483799.740</td>\n",
              "    </tr>\n",
              "    <tr>\n",
              "      <th>1</th>\n",
              "      <td>201101</td>\n",
              "      <td>351981.280</td>\n",
              "    </tr>\n",
              "    <tr>\n",
              "      <th>2</th>\n",
              "      <td>201102</td>\n",
              "      <td>348853.630</td>\n",
              "    </tr>\n",
              "    <tr>\n",
              "      <th>3</th>\n",
              "      <td>201103</td>\n",
              "      <td>456917.870</td>\n",
              "    </tr>\n",
              "    <tr>\n",
              "      <th>4</th>\n",
              "      <td>201104</td>\n",
              "      <td>376744.411</td>\n",
              "    </tr>\n",
              "  </tbody>\n",
              "</table>\n",
              "</div>"
            ],
            "text/plain": [
              "   InvoiceYearMonth     Revenue\n",
              "0            201012  483799.740\n",
              "1            201101  351981.280\n",
              "2            201102  348853.630\n",
              "3            201103  456917.870\n",
              "4            201104  376744.411"
            ]
          },
          "metadata": {},
          "execution_count": 24
        }
      ]
    },
    {
      "cell_type": "code",
      "metadata": {
        "colab": {
          "base_uri": "https://localhost:8080/",
          "height": 412
        },
        "id": "fvp52EtvgeY6",
        "outputId": "0bff9874-f196-415f-fc48-4f08549dbcbf"
      },
      "source": [
        "# Plot monthly revenue\n",
        "monthly_revenue.InvoiceYearMonth = monthly_revenue.InvoiceYearMonth.astype(str)\n",
        "sns.set_theme(style=\"darkgrid\")\n",
        "\n",
        "plt.figure(figsize= (15,6))\n",
        "sns.lineplot(data = monthly_revenue, x = 'InvoiceYearMonth', y = 'Revenue')"
      ],
      "id": "fvp52EtvgeY6",
      "execution_count": null,
      "outputs": [
        {
          "output_type": "execute_result",
          "data": {
            "text/plain": [
              "<matplotlib.axes._subplots.AxesSubplot at 0x7f3048dbd050>"
            ]
          },
          "metadata": {},
          "execution_count": 27
        },
        {
          "output_type": "display_data",
          "data": {
            "image/png": "[encoded data removed]",
            "text/plain": [
              "<Figure size 1080x432 with 1 Axes>"
            ]
          },
          "metadata": {}
        }
      ]
    },
    {
      "cell_type": "markdown",
      "metadata": {
        "hidden": true,
        "id": "xd1uBVkarytB"
      },
      "source": [
        "In general, revenue is growing, especially from August 2011. Focus on a big drop in revenue in December 2011. Why is there a big drop, especially in December?\n",
        "\n",
        "First common reason is data was not collected for the whole month."
      ],
      "id": "xd1uBVkarytB"
    },
    {
      "cell_type": "code",
      "metadata": {
        "colab": {
          "base_uri": "https://localhost:8080/"
        },
        "id": "FvX-E3PDjkBm",
        "outputId": "6ec698b8-e6e3-4058-c2d0-9ec091ae1dd7"
      },
      "source": [
        "# inspect the date of data collected for December 2011\n",
        "df_plots[df_plots.InvoiceYearMonth == 201112].Day "
      ],
      "id": "FvX-E3PDjkBm",
      "execution_count": null,
      "outputs": [
        {
          "output_type": "execute_result",
          "data": {
            "text/plain": [
              "516384    1\n",
              "516385    1\n",
              "516386    1\n",
              "516387    1\n",
              "516388    1\n",
              "         ..\n",
              "541889    9\n",
              "541890    9\n",
              "541891    9\n",
              "541892    9\n",
              "541893    9\n",
              "Name: Day, Length: 16077, dtype: int64"
            ]
          },
          "metadata": {},
          "execution_count": 28
        }
      ]
    },
    {
      "cell_type": "markdown",
      "metadata": {
        "id": "IUCKrkzhisDQ"
      },
      "source": [
        "**ANSWER:** sales data in this period of time wasn't collected full month (last day recorded was Dec 9)"
      ],
      "id": "IUCKrkzhisDQ"
    },
    {
      "cell_type": "markdown",
      "metadata": {
        "hidden": true,
        "id": "Q2DwjaK2rytC"
      },
      "source": [
        "## New customer ratio and Retention rate"
      ],
      "id": "Q2DwjaK2rytC"
    },
    {
      "cell_type": "markdown",
      "metadata": {
        "id": "VBtfJHuVkO9F"
      },
      "source": [
        "** Steps to find New Customer Ratio**\n",
        "\n",
        "1. Create a dataframe that contains CustomerId and their earliest InvoiceDate (also known as earliest purchase date)\n",
        "2. Since we are doing this monthly, we only need to consider Month and Year of this date\n",
        "3. Merge this dataframe to the df_plots dataframe\n",
        "4. Create a new column called UserType\n",
        "- If a user's earliest InvoiceDate is after their current InvoiceDate: this is existing user\n",
        "- If a user's earliest InvoiceDate is the same as their current InvoiceDate: this is new user"
      ],
      "id": "VBtfJHuVkO9F"
    },
    {
      "cell_type": "code",
      "metadata": {
        "colab": {
          "base_uri": "https://localhost:8080/",
          "height": 112
        },
        "id": "go2jYIzivv_Q",
        "outputId": "fce785fc-9d2e-4d17-e06d-2f8ab945ff9c"
      },
      "source": [
        "df_plots.head(2)"
      ],
      "id": "go2jYIzivv_Q",
      "execution_count": null,
      "outputs": [
        {
          "output_type": "execute_result",
          "data": {
            "text/html": [
              "<div>\n",
              "<style scoped>\n",
              "    .dataframe tbody tr th:only-of-type {\n",
              "        vertical-align: middle;\n",
              "    }\n",
              "\n",
              "    .dataframe tbody tr th {\n",
              "        vertical-align: top;\n",
              "    }\n",
              "\n",
              "    .dataframe thead th {\n",
              "        text-align: right;\n",
              "    }\n",
              "</style>\n",
              "<table border=\"1\" class=\"dataframe\">\n",
              "  <thead>\n",
              "    <tr style=\"text-align: right;\">\n",
              "      <th></th>\n",
              "      <th>InvoiceNo</th>\n",
              "      <th>StockCode</th>\n",
              "      <th>Description</th>\n",
              "      <th>Quantity</th>\n",
              "      <th>InvoiceDate</th>\n",
              "      <th>UnitPrice</th>\n",
              "      <th>CustomerID</th>\n",
              "      <th>Year</th>\n",
              "      <th>Month</th>\n",
              "      <th>Day</th>\n",
              "      <th>DayOfWeek</th>\n",
              "      <th>WeekOfYear</th>\n",
              "      <th>Revenue</th>\n",
              "      <th>InvoiceYearMonth</th>\n",
              "    </tr>\n",
              "  </thead>\n",
              "  <tbody>\n",
              "    <tr>\n",
              "      <th>0</th>\n",
              "      <td>536365</td>\n",
              "      <td>85123A</td>\n",
              "      <td>WHITE HANGING HEART T-LIGHT HOLDER</td>\n",
              "      <td>6</td>\n",
              "      <td>2010-12-01 08:26:00</td>\n",
              "      <td>2.55</td>\n",
              "      <td>17850.0</td>\n",
              "      <td>2010</td>\n",
              "      <td>12</td>\n",
              "      <td>1</td>\n",
              "      <td>1</td>\n",
              "      <td>48</td>\n",
              "      <td>15.30</td>\n",
              "      <td>201012</td>\n",
              "    </tr>\n",
              "    <tr>\n",
              "      <th>1</th>\n",
              "      <td>536365</td>\n",
              "      <td>71053</td>\n",
              "      <td>WHITE METAL LANTERN</td>\n",
              "      <td>6</td>\n",
              "      <td>2010-12-01 08:26:00</td>\n",
              "      <td>3.39</td>\n",
              "      <td>17850.0</td>\n",
              "      <td>2010</td>\n",
              "      <td>12</td>\n",
              "      <td>1</td>\n",
              "      <td>1</td>\n",
              "      <td>48</td>\n",
              "      <td>20.34</td>\n",
              "      <td>201012</td>\n",
              "    </tr>\n",
              "  </tbody>\n",
              "</table>\n",
              "</div>"
            ],
            "text/plain": [
              "  InvoiceNo StockCode  ... Revenue  InvoiceYearMonth\n",
              "0    536365    85123A  ...   15.30            201012\n",
              "1    536365     71053  ...   20.34            201012\n",
              "\n",
              "[2 rows x 14 columns]"
            ]
          },
          "metadata": {},
          "execution_count": 63
        }
      ]
    },
    {
      "cell_type": "code",
      "metadata": {
        "colab": {
          "base_uri": "https://localhost:8080/",
          "height": 423
        },
        "id": "Si3zo0iExMhn",
        "outputId": "47a88a01-b322-4ef1-c48d-5ee0860ee8c2"
      },
      "source": [
        "# df to show earliest purchase date for each CustomerID\n",
        "customer_min_purchase = df_plots.groupby('CustomerID')['InvoiceDate'].min().reset_index()\n",
        "customer_min_purchase"
      ],
      "id": "Si3zo0iExMhn",
      "execution_count": null,
      "outputs": [
        {
          "output_type": "execute_result",
          "data": {
            "text/html": [
              "<div>\n",
              "<style scoped>\n",
              "    .dataframe tbody tr th:only-of-type {\n",
              "        vertical-align: middle;\n",
              "    }\n",
              "\n",
              "    .dataframe tbody tr th {\n",
              "        vertical-align: top;\n",
              "    }\n",
              "\n",
              "    .dataframe thead th {\n",
              "        text-align: right;\n",
              "    }\n",
              "</style>\n",
              "<table border=\"1\" class=\"dataframe\">\n",
              "  <thead>\n",
              "    <tr style=\"text-align: right;\">\n",
              "      <th></th>\n",
              "      <th>CustomerID</th>\n",
              "      <th>InvoiceDate</th>\n",
              "    </tr>\n",
              "  </thead>\n",
              "  <tbody>\n",
              "    <tr>\n",
              "      <th>0</th>\n",
              "      <td>12346.0</td>\n",
              "      <td>2011-01-18 10:01:00</td>\n",
              "    </tr>\n",
              "    <tr>\n",
              "      <th>1</th>\n",
              "      <td>12747.0</td>\n",
              "      <td>2010-12-05 15:38:00</td>\n",
              "    </tr>\n",
              "    <tr>\n",
              "      <th>2</th>\n",
              "      <td>12748.0</td>\n",
              "      <td>2010-12-01 12:48:00</td>\n",
              "    </tr>\n",
              "    <tr>\n",
              "      <th>3</th>\n",
              "      <td>12749.0</td>\n",
              "      <td>2011-05-10 15:25:00</td>\n",
              "    </tr>\n",
              "    <tr>\n",
              "      <th>4</th>\n",
              "      <td>12820.0</td>\n",
              "      <td>2011-01-17 12:34:00</td>\n",
              "    </tr>\n",
              "    <tr>\n",
              "      <th>...</th>\n",
              "      <td>...</td>\n",
              "      <td>...</td>\n",
              "    </tr>\n",
              "    <tr>\n",
              "      <th>3945</th>\n",
              "      <td>18280.0</td>\n",
              "      <td>2011-03-07 09:52:00</td>\n",
              "    </tr>\n",
              "    <tr>\n",
              "      <th>3946</th>\n",
              "      <td>18281.0</td>\n",
              "      <td>2011-06-12 10:53:00</td>\n",
              "    </tr>\n",
              "    <tr>\n",
              "      <th>3947</th>\n",
              "      <td>18282.0</td>\n",
              "      <td>2011-08-05 13:35:00</td>\n",
              "    </tr>\n",
              "    <tr>\n",
              "      <th>3948</th>\n",
              "      <td>18283.0</td>\n",
              "      <td>2011-01-06 14:14:00</td>\n",
              "    </tr>\n",
              "    <tr>\n",
              "      <th>3949</th>\n",
              "      <td>18287.0</td>\n",
              "      <td>2011-05-22 10:39:00</td>\n",
              "    </tr>\n",
              "  </tbody>\n",
              "</table>\n",
              "<p>3950 rows × 2 columns</p>\n",
              "</div>"
            ],
            "text/plain": [
              "      CustomerID         InvoiceDate\n",
              "0        12346.0 2011-01-18 10:01:00\n",
              "1        12747.0 2010-12-05 15:38:00\n",
              "2        12748.0 2010-12-01 12:48:00\n",
              "3        12749.0 2011-05-10 15:25:00\n",
              "4        12820.0 2011-01-17 12:34:00\n",
              "...          ...                 ...\n",
              "3945     18280.0 2011-03-07 09:52:00\n",
              "3946     18281.0 2011-06-12 10:53:00\n",
              "3947     18282.0 2011-08-05 13:35:00\n",
              "3948     18283.0 2011-01-06 14:14:00\n",
              "3949     18287.0 2011-05-22 10:39:00\n",
              "\n",
              "[3950 rows x 2 columns]"
            ]
          },
          "metadata": {},
          "execution_count": 29
        }
      ]
    },
    {
      "cell_type": "code",
      "metadata": {
        "colab": {
          "base_uri": "https://localhost:8080/",
          "height": 236
        },
        "id": "icyPEeucjZWM",
        "outputId": "62285161-190d-4cdd-8f9c-c487aa2622b2"
      },
      "source": [
        "customer_min_purchase['MinPurchaseYearMonth'] = customer_min_purchase['InvoiceDate'].map(lambda date: 100*date.year + date.month) \n",
        "customer_min_purchase.rename(columns = {'InvoiceDate': 'MinPurchaseDate'}, inplace = True)\n",
        "df_plots = df_plots.merge(customer_min_purchase, how = 'left', on = 'CustomerID')\n",
        "df_plots.head(2)"
      ],
      "id": "icyPEeucjZWM",
      "execution_count": null,
      "outputs": [
        {
          "output_type": "execute_result",
          "data": {
            "text/html": [
              "<div>\n",
              "<style scoped>\n",
              "    .dataframe tbody tr th:only-of-type {\n",
              "        vertical-align: middle;\n",
              "    }\n",
              "\n",
              "    .dataframe tbody tr th {\n",
              "        vertical-align: top;\n",
              "    }\n",
              "\n",
              "    .dataframe thead th {\n",
              "        text-align: right;\n",
              "    }\n",
              "</style>\n",
              "<table border=\"1\" class=\"dataframe\">\n",
              "  <thead>\n",
              "    <tr style=\"text-align: right;\">\n",
              "      <th></th>\n",
              "      <th>InvoiceNo</th>\n",
              "      <th>StockCode</th>\n",
              "      <th>Description</th>\n",
              "      <th>Quantity</th>\n",
              "      <th>InvoiceDate</th>\n",
              "      <th>UnitPrice</th>\n",
              "      <th>CustomerID</th>\n",
              "      <th>Year</th>\n",
              "      <th>Month</th>\n",
              "      <th>Day</th>\n",
              "      <th>DayOfWeek</th>\n",
              "      <th>WeekOfYear</th>\n",
              "      <th>Revenue</th>\n",
              "      <th>InvoiceYearMonth</th>\n",
              "      <th>MinPurchaseDate</th>\n",
              "      <th>MinPurchaseYearMonth</th>\n",
              "    </tr>\n",
              "  </thead>\n",
              "  <tbody>\n",
              "    <tr>\n",
              "      <th>0</th>\n",
              "      <td>536365</td>\n",
              "      <td>85123A</td>\n",
              "      <td>WHITE HANGING HEART T-LIGHT HOLDER</td>\n",
              "      <td>6</td>\n",
              "      <td>2010-12-01 08:26:00</td>\n",
              "      <td>2.55</td>\n",
              "      <td>17850.0</td>\n",
              "      <td>2010</td>\n",
              "      <td>12</td>\n",
              "      <td>1</td>\n",
              "      <td>1</td>\n",
              "      <td>48</td>\n",
              "      <td>15.30</td>\n",
              "      <td>201012</td>\n",
              "      <td>2010-12-01 08:26:00</td>\n",
              "      <td>201012</td>\n",
              "    </tr>\n",
              "    <tr>\n",
              "      <th>1</th>\n",
              "      <td>536365</td>\n",
              "      <td>71053</td>\n",
              "      <td>WHITE METAL LANTERN</td>\n",
              "      <td>6</td>\n",
              "      <td>2010-12-01 08:26:00</td>\n",
              "      <td>3.39</td>\n",
              "      <td>17850.0</td>\n",
              "      <td>2010</td>\n",
              "      <td>12</td>\n",
              "      <td>1</td>\n",
              "      <td>1</td>\n",
              "      <td>48</td>\n",
              "      <td>20.34</td>\n",
              "      <td>201012</td>\n",
              "      <td>2010-12-01 08:26:00</td>\n",
              "      <td>201012</td>\n",
              "    </tr>\n",
              "  </tbody>\n",
              "</table>\n",
              "</div>"
            ],
            "text/plain": [
              "  InvoiceNo StockCode  ...     MinPurchaseDate  MinPurchaseYearMonth\n",
              "0    536365    85123A  ... 2010-12-01 08:26:00                201012\n",
              "1    536365     71053  ... 2010-12-01 08:26:00                201012\n",
              "\n",
              "[2 rows x 16 columns]"
            ]
          },
          "metadata": {},
          "execution_count": 32
        }
      ]
    },
    {
      "cell_type": "code",
      "metadata": {
        "colab": {
          "base_uri": "https://localhost:8080/",
          "height": 236
        },
        "id": "S28_GeNLlaEb",
        "outputId": "2832b3b1-cfc8-46b2-906c-b383ef6a0327"
      },
      "source": [
        "# Create a new column called UserType\n",
        "# If a user's earliest InvoiceDate is after their current InvoiceDate: this is existing user\n",
        "# If a user's earliest InvoiceDate is the same as their current InvoiceDate: this is new user\n",
        "def user_type(row):\n",
        "  return 'Existing' if row['InvoiceYearMonth'] > row['MinPurchaseYearMonth'] else 'New'\n",
        "  \n",
        "df_plots['UserType'] = df_plots.apply(user_type, axis = 1)\n",
        "df_plots.head(2)"
      ],
      "id": "S28_GeNLlaEb",
      "execution_count": null,
      "outputs": [
        {
          "output_type": "execute_result",
          "data": {
            "text/html": [
              "<div>\n",
              "<style scoped>\n",
              "    .dataframe tbody tr th:only-of-type {\n",
              "        vertical-align: middle;\n",
              "    }\n",
              "\n",
              "    .dataframe tbody tr th {\n",
              "        vertical-align: top;\n",
              "    }\n",
              "\n",
              "    .dataframe thead th {\n",
              "        text-align: right;\n",
              "    }\n",
              "</style>\n",
              "<table border=\"1\" class=\"dataframe\">\n",
              "  <thead>\n",
              "    <tr style=\"text-align: right;\">\n",
              "      <th></th>\n",
              "      <th>InvoiceNo</th>\n",
              "      <th>StockCode</th>\n",
              "      <th>Description</th>\n",
              "      <th>Quantity</th>\n",
              "      <th>InvoiceDate</th>\n",
              "      <th>UnitPrice</th>\n",
              "      <th>CustomerID</th>\n",
              "      <th>Year</th>\n",
              "      <th>Month</th>\n",
              "      <th>Day</th>\n",
              "      <th>DayOfWeek</th>\n",
              "      <th>WeekOfYear</th>\n",
              "      <th>Revenue</th>\n",
              "      <th>InvoiceYearMonth</th>\n",
              "      <th>MinPurchaseDate</th>\n",
              "      <th>MinPurchaseYearMonth</th>\n",
              "      <th>UserType</th>\n",
              "    </tr>\n",
              "  </thead>\n",
              "  <tbody>\n",
              "    <tr>\n",
              "      <th>0</th>\n",
              "      <td>536365</td>\n",
              "      <td>85123A</td>\n",
              "      <td>WHITE HANGING HEART T-LIGHT HOLDER</td>\n",
              "      <td>6</td>\n",
              "      <td>2010-12-01 08:26:00</td>\n",
              "      <td>2.55</td>\n",
              "      <td>17850.0</td>\n",
              "      <td>2010</td>\n",
              "      <td>12</td>\n",
              "      <td>1</td>\n",
              "      <td>1</td>\n",
              "      <td>48</td>\n",
              "      <td>15.30</td>\n",
              "      <td>201012</td>\n",
              "      <td>2010-12-01 08:26:00</td>\n",
              "      <td>201012</td>\n",
              "      <td>New</td>\n",
              "    </tr>\n",
              "    <tr>\n",
              "      <th>1</th>\n",
              "      <td>536365</td>\n",
              "      <td>71053</td>\n",
              "      <td>WHITE METAL LANTERN</td>\n",
              "      <td>6</td>\n",
              "      <td>2010-12-01 08:26:00</td>\n",
              "      <td>3.39</td>\n",
              "      <td>17850.0</td>\n",
              "      <td>2010</td>\n",
              "      <td>12</td>\n",
              "      <td>1</td>\n",
              "      <td>1</td>\n",
              "      <td>48</td>\n",
              "      <td>20.34</td>\n",
              "      <td>201012</td>\n",
              "      <td>2010-12-01 08:26:00</td>\n",
              "      <td>201012</td>\n",
              "      <td>New</td>\n",
              "    </tr>\n",
              "  </tbody>\n",
              "</table>\n",
              "</div>"
            ],
            "text/plain": [
              "  InvoiceNo StockCode  ... MinPurchaseYearMonth  UserType\n",
              "0    536365    85123A  ...               201012       New\n",
              "1    536365     71053  ...               201012       New\n",
              "\n",
              "[2 rows x 17 columns]"
            ]
          },
          "metadata": {},
          "execution_count": 34
        }
      ]
    },
    {
      "cell_type": "markdown",
      "metadata": {
        "hidden": true,
        "id": "hvhIF_MFrytD"
      },
      "source": [
        "We have successfully identify the New and Existing customers for each month.\n",
        "\n",
        "While we are at it, let's calculate the monthly revenue generated by each UserType. We want to see what is the total revenue generated by New user and total revenue generated by Existing user, for each month."
      ],
      "id": "hvhIF_MFrytD"
    },
    {
      "cell_type": "code",
      "metadata": {
        "hidden": true,
        "id": "ql2yYsCLrytE",
        "colab": {
          "base_uri": "https://localhost:8080/",
          "height": 833
        },
        "outputId": "cd545a0f-512b-42a1-a8dd-cfce53e269cc"
      },
      "source": [
        "# Monthly revenue by user type monthly \n",
        "monthly_revenue = df_plots.groupby(['InvoiceYearMonth','UserType'])['Revenue'].sum().reset_index()\n",
        "monthly_revenue"
      ],
      "id": "ql2yYsCLrytE",
      "execution_count": null,
      "outputs": [
        {
          "output_type": "execute_result",
          "data": {
            "text/html": [
              "<div>\n",
              "<style scoped>\n",
              "    .dataframe tbody tr th:only-of-type {\n",
              "        vertical-align: middle;\n",
              "    }\n",
              "\n",
              "    .dataframe tbody tr th {\n",
              "        vertical-align: top;\n",
              "    }\n",
              "\n",
              "    .dataframe thead th {\n",
              "        text-align: right;\n",
              "    }\n",
              "</style>\n",
              "<table border=\"1\" class=\"dataframe\">\n",
              "  <thead>\n",
              "    <tr style=\"text-align: right;\">\n",
              "      <th></th>\n",
              "      <th>InvoiceYearMonth</th>\n",
              "      <th>UserType</th>\n",
              "      <th>Revenue</th>\n",
              "    </tr>\n",
              "  </thead>\n",
              "  <tbody>\n",
              "    <tr>\n",
              "      <th>0</th>\n",
              "      <td>201012</td>\n",
              "      <td>New</td>\n",
              "      <td>483799.740</td>\n",
              "    </tr>\n",
              "    <tr>\n",
              "      <th>1</th>\n",
              "      <td>201101</td>\n",
              "      <td>Existing</td>\n",
              "      <td>195275.510</td>\n",
              "    </tr>\n",
              "    <tr>\n",
              "      <th>2</th>\n",
              "      <td>201101</td>\n",
              "      <td>New</td>\n",
              "      <td>156705.770</td>\n",
              "    </tr>\n",
              "    <tr>\n",
              "      <th>3</th>\n",
              "      <td>201102</td>\n",
              "      <td>Existing</td>\n",
              "      <td>220994.630</td>\n",
              "    </tr>\n",
              "    <tr>\n",
              "      <th>4</th>\n",
              "      <td>201102</td>\n",
              "      <td>New</td>\n",
              "      <td>127859.000</td>\n",
              "    </tr>\n",
              "    <tr>\n",
              "      <th>5</th>\n",
              "      <td>201103</td>\n",
              "      <td>Existing</td>\n",
              "      <td>296350.030</td>\n",
              "    </tr>\n",
              "    <tr>\n",
              "      <th>6</th>\n",
              "      <td>201103</td>\n",
              "      <td>New</td>\n",
              "      <td>160567.840</td>\n",
              "    </tr>\n",
              "    <tr>\n",
              "      <th>7</th>\n",
              "      <td>201104</td>\n",
              "      <td>Existing</td>\n",
              "      <td>268226.660</td>\n",
              "    </tr>\n",
              "    <tr>\n",
              "      <th>8</th>\n",
              "      <td>201104</td>\n",
              "      <td>New</td>\n",
              "      <td>108517.751</td>\n",
              "    </tr>\n",
              "    <tr>\n",
              "      <th>9</th>\n",
              "      <td>201105</td>\n",
              "      <td>Existing</td>\n",
              "      <td>434725.860</td>\n",
              "    </tr>\n",
              "    <tr>\n",
              "      <th>10</th>\n",
              "      <td>201105</td>\n",
              "      <td>New</td>\n",
              "      <td>90847.490</td>\n",
              "    </tr>\n",
              "    <tr>\n",
              "      <th>11</th>\n",
              "      <td>201106</td>\n",
              "      <td>Existing</td>\n",
              "      <td>408030.060</td>\n",
              "    </tr>\n",
              "    <tr>\n",
              "      <th>12</th>\n",
              "      <td>201106</td>\n",
              "      <td>New</td>\n",
              "      <td>64479.190</td>\n",
              "    </tr>\n",
              "    <tr>\n",
              "      <th>13</th>\n",
              "      <td>201107</td>\n",
              "      <td>Existing</td>\n",
              "      <td>407693.610</td>\n",
              "    </tr>\n",
              "    <tr>\n",
              "      <th>14</th>\n",
              "      <td>201107</td>\n",
              "      <td>New</td>\n",
              "      <td>53453.991</td>\n",
              "    </tr>\n",
              "    <tr>\n",
              "      <th>15</th>\n",
              "      <td>201108</td>\n",
              "      <td>Existing</td>\n",
              "      <td>421388.930</td>\n",
              "    </tr>\n",
              "    <tr>\n",
              "      <th>16</th>\n",
              "      <td>201108</td>\n",
              "      <td>New</td>\n",
              "      <td>55619.480</td>\n",
              "    </tr>\n",
              "    <tr>\n",
              "      <th>17</th>\n",
              "      <td>201109</td>\n",
              "      <td>Existing</td>\n",
              "      <td>640861.901</td>\n",
              "    </tr>\n",
              "    <tr>\n",
              "      <th>18</th>\n",
              "      <td>201109</td>\n",
              "      <td>New</td>\n",
              "      <td>135667.941</td>\n",
              "    </tr>\n",
              "    <tr>\n",
              "      <th>19</th>\n",
              "      <td>201110</td>\n",
              "      <td>Existing</td>\n",
              "      <td>648837.600</td>\n",
              "    </tr>\n",
              "    <tr>\n",
              "      <th>20</th>\n",
              "      <td>201110</td>\n",
              "      <td>New</td>\n",
              "      <td>133940.280</td>\n",
              "    </tr>\n",
              "    <tr>\n",
              "      <th>21</th>\n",
              "      <td>201111</td>\n",
              "      <td>Existing</td>\n",
              "      <td>838955.910</td>\n",
              "    </tr>\n",
              "    <tr>\n",
              "      <th>22</th>\n",
              "      <td>201111</td>\n",
              "      <td>New</td>\n",
              "      <td>117153.750</td>\n",
              "    </tr>\n",
              "    <tr>\n",
              "      <th>23</th>\n",
              "      <td>201112</td>\n",
              "      <td>Existing</td>\n",
              "      <td>273472.660</td>\n",
              "    </tr>\n",
              "    <tr>\n",
              "      <th>24</th>\n",
              "      <td>201112</td>\n",
              "      <td>New</td>\n",
              "      <td>24447.810</td>\n",
              "    </tr>\n",
              "  </tbody>\n",
              "</table>\n",
              "</div>"
            ],
            "text/plain": [
              "    InvoiceYearMonth  UserType     Revenue\n",
              "0             201012       New  483799.740\n",
              "1             201101  Existing  195275.510\n",
              "2             201101       New  156705.770\n",
              "3             201102  Existing  220994.630\n",
              "4             201102       New  127859.000\n",
              "5             201103  Existing  296350.030\n",
              "6             201103       New  160567.840\n",
              "7             201104  Existing  268226.660\n",
              "8             201104       New  108517.751\n",
              "9             201105  Existing  434725.860\n",
              "10            201105       New   90847.490\n",
              "11            201106  Existing  408030.060\n",
              "12            201106       New   64479.190\n",
              "13            201107  Existing  407693.610\n",
              "14            201107       New   53453.991\n",
              "15            201108  Existing  421388.930\n",
              "16            201108       New   55619.480\n",
              "17            201109  Existing  640861.901\n",
              "18            201109       New  135667.941\n",
              "19            201110  Existing  648837.600\n",
              "20            201110       New  133940.280\n",
              "21            201111  Existing  838955.910\n",
              "22            201111       New  117153.750\n",
              "23            201112  Existing  273472.660\n",
              "24            201112       New   24447.810"
            ]
          },
          "metadata": {},
          "execution_count": 36
        }
      ]
    },
    {
      "cell_type": "markdown",
      "metadata": {
        "id": "EuiPDERrrciz"
      },
      "source": [
        "Note: let's exclude the first month (Dec 2010) so the UserType will make more sense, and we will also exclude the last month (Dec 2011) as we don't have enough data in Dec 2011"
      ],
      "id": "EuiPDERrrciz"
    },
    {
      "cell_type": "code",
      "metadata": {
        "colab": {
          "base_uri": "https://localhost:8080/",
          "height": 738
        },
        "id": "AbEnQQiqsiHw",
        "outputId": "67b4d6f0-10de-4fae-e83a-c52c3925b895"
      },
      "source": [
        "# Remove data in Dec 2010 and Dec 2011\n",
        "monthly_revenue_by_user = monthly_revenue[~monthly_revenue['InvoiceYearMonth'].isin([201012, 201112])]\n",
        "monthly_revenue_by_user.InvoiceYearMonth = monthly_revenue_by_user.InvoiceYearMonth.astype(str)\n",
        "monthly_revenue_by_user"
      ],
      "id": "AbEnQQiqsiHw",
      "execution_count": null,
      "outputs": [
        {
          "output_type": "execute_result",
          "data": {
            "text/html": [
              "<div>\n",
              "<style scoped>\n",
              "    .dataframe tbody tr th:only-of-type {\n",
              "        vertical-align: middle;\n",
              "    }\n",
              "\n",
              "    .dataframe tbody tr th {\n",
              "        vertical-align: top;\n",
              "    }\n",
              "\n",
              "    .dataframe thead th {\n",
              "        text-align: right;\n",
              "    }\n",
              "</style>\n",
              "<table border=\"1\" class=\"dataframe\">\n",
              "  <thead>\n",
              "    <tr style=\"text-align: right;\">\n",
              "      <th></th>\n",
              "      <th>InvoiceYearMonth</th>\n",
              "      <th>UserType</th>\n",
              "      <th>Revenue</th>\n",
              "    </tr>\n",
              "  </thead>\n",
              "  <tbody>\n",
              "    <tr>\n",
              "      <th>1</th>\n",
              "      <td>201101</td>\n",
              "      <td>Existing</td>\n",
              "      <td>195275.510</td>\n",
              "    </tr>\n",
              "    <tr>\n",
              "      <th>2</th>\n",
              "      <td>201101</td>\n",
              "      <td>New</td>\n",
              "      <td>156705.770</td>\n",
              "    </tr>\n",
              "    <tr>\n",
              "      <th>3</th>\n",
              "      <td>201102</td>\n",
              "      <td>Existing</td>\n",
              "      <td>220994.630</td>\n",
              "    </tr>\n",
              "    <tr>\n",
              "      <th>4</th>\n",
              "      <td>201102</td>\n",
              "      <td>New</td>\n",
              "      <td>127859.000</td>\n",
              "    </tr>\n",
              "    <tr>\n",
              "      <th>5</th>\n",
              "      <td>201103</td>\n",
              "      <td>Existing</td>\n",
              "      <td>296350.030</td>\n",
              "    </tr>\n",
              "    <tr>\n",
              "      <th>6</th>\n",
              "      <td>201103</td>\n",
              "      <td>New</td>\n",
              "      <td>160567.840</td>\n",
              "    </tr>\n",
              "    <tr>\n",
              "      <th>7</th>\n",
              "      <td>201104</td>\n",
              "      <td>Existing</td>\n",
              "      <td>268226.660</td>\n",
              "    </tr>\n",
              "    <tr>\n",
              "      <th>8</th>\n",
              "      <td>201104</td>\n",
              "      <td>New</td>\n",
              "      <td>108517.751</td>\n",
              "    </tr>\n",
              "    <tr>\n",
              "      <th>9</th>\n",
              "      <td>201105</td>\n",
              "      <td>Existing</td>\n",
              "      <td>434725.860</td>\n",
              "    </tr>\n",
              "    <tr>\n",
              "      <th>10</th>\n",
              "      <td>201105</td>\n",
              "      <td>New</td>\n",
              "      <td>90847.490</td>\n",
              "    </tr>\n",
              "    <tr>\n",
              "      <th>11</th>\n",
              "      <td>201106</td>\n",
              "      <td>Existing</td>\n",
              "      <td>408030.060</td>\n",
              "    </tr>\n",
              "    <tr>\n",
              "      <th>12</th>\n",
              "      <td>201106</td>\n",
              "      <td>New</td>\n",
              "      <td>64479.190</td>\n",
              "    </tr>\n",
              "    <tr>\n",
              "      <th>13</th>\n",
              "      <td>201107</td>\n",
              "      <td>Existing</td>\n",
              "      <td>407693.610</td>\n",
              "    </tr>\n",
              "    <tr>\n",
              "      <th>14</th>\n",
              "      <td>201107</td>\n",
              "      <td>New</td>\n",
              "      <td>53453.991</td>\n",
              "    </tr>\n",
              "    <tr>\n",
              "      <th>15</th>\n",
              "      <td>201108</td>\n",
              "      <td>Existing</td>\n",
              "      <td>421388.930</td>\n",
              "    </tr>\n",
              "    <tr>\n",
              "      <th>16</th>\n",
              "      <td>201108</td>\n",
              "      <td>New</td>\n",
              "      <td>55619.480</td>\n",
              "    </tr>\n",
              "    <tr>\n",
              "      <th>17</th>\n",
              "      <td>201109</td>\n",
              "      <td>Existing</td>\n",
              "      <td>640861.901</td>\n",
              "    </tr>\n",
              "    <tr>\n",
              "      <th>18</th>\n",
              "      <td>201109</td>\n",
              "      <td>New</td>\n",
              "      <td>135667.941</td>\n",
              "    </tr>\n",
              "    <tr>\n",
              "      <th>19</th>\n",
              "      <td>201110</td>\n",
              "      <td>Existing</td>\n",
              "      <td>648837.600</td>\n",
              "    </tr>\n",
              "    <tr>\n",
              "      <th>20</th>\n",
              "      <td>201110</td>\n",
              "      <td>New</td>\n",
              "      <td>133940.280</td>\n",
              "    </tr>\n",
              "    <tr>\n",
              "      <th>21</th>\n",
              "      <td>201111</td>\n",
              "      <td>Existing</td>\n",
              "      <td>838955.910</td>\n",
              "    </tr>\n",
              "    <tr>\n",
              "      <th>22</th>\n",
              "      <td>201111</td>\n",
              "      <td>New</td>\n",
              "      <td>117153.750</td>\n",
              "    </tr>\n",
              "  </tbody>\n",
              "</table>\n",
              "</div>"
            ],
            "text/plain": [
              "   InvoiceYearMonth  UserType     Revenue\n",
              "1            201101  Existing  195275.510\n",
              "2            201101       New  156705.770\n",
              "3            201102  Existing  220994.630\n",
              "4            201102       New  127859.000\n",
              "5            201103  Existing  296350.030\n",
              "6            201103       New  160567.840\n",
              "7            201104  Existing  268226.660\n",
              "8            201104       New  108517.751\n",
              "9            201105  Existing  434725.860\n",
              "10           201105       New   90847.490\n",
              "11           201106  Existing  408030.060\n",
              "12           201106       New   64479.190\n",
              "13           201107  Existing  407693.610\n",
              "14           201107       New   53453.991\n",
              "15           201108  Existing  421388.930\n",
              "16           201108       New   55619.480\n",
              "17           201109  Existing  640861.901\n",
              "18           201109       New  135667.941\n",
              "19           201110  Existing  648837.600\n",
              "20           201110       New  133940.280\n",
              "21           201111  Existing  838955.910\n",
              "22           201111       New  117153.750"
            ]
          },
          "metadata": {},
          "execution_count": 38
        }
      ]
    },
    {
      "cell_type": "code",
      "metadata": {
        "hidden": true,
        "id": "iPPeZugHrytE",
        "colab": {
          "base_uri": "https://localhost:8080/",
          "height": 412
        },
        "outputId": "1547d1a2-d49a-49d3-ab6f-ccaa02598b24"
      },
      "source": [
        "# Let's plot the monthly revenue for each UserType \n",
        "plt.figure(figsize = (15,6))\n",
        "sns.lineplot(data = monthly_revenue_by_user, x = 'InvoiceYearMonth', y = 'Revenue', hue = 'UserType' )"
      ],
      "id": "iPPeZugHrytE",
      "execution_count": null,
      "outputs": [
        {
          "output_type": "execute_result",
          "data": {
            "text/plain": [
              "<matplotlib.axes._subplots.AxesSubplot at 0x7fe8c93d6210>"
            ]
          },
          "metadata": {},
          "execution_count": 33
        },
        {
          "output_type": "display_data",
          "data": {
            "image/png": "[encoded data removed]",
            "text/plain": [
              "<Figure size 1080x432 with 1 Axes>"
            ]
          },
          "metadata": {}
        }
      ]
    },
    {
      "cell_type": "markdown",
      "metadata": {
        "hidden": true,
        "id": "sjQDLbDRrytF"
      },
      "source": [
        "Existing customers are showing a positive trend and tell us that our customer base is growing. New customers, however, have a slight negative trend between March 2011 to August 2011."
      ],
      "id": "sjQDLbDRrytF"
    },
    {
      "cell_type": "markdown",
      "metadata": {
        "hidden": true,
        "id": "TjUHllsdrytF"
      },
      "source": [
        "### Retention Rate: ###\n",
        "1. Create a crosstab between CustomerID and InvoiceYearMonth\n",
        "2. Create an array of dictionary which keeps Retained & Total User count for each month\n",
        "\n"
      ],
      "id": "TjUHllsdrytF"
    },
    {
      "cell_type": "code",
      "metadata": {
        "colab": {
          "base_uri": "https://localhost:8080/",
          "height": 206
        },
        "id": "gezCRX5Jg604",
        "outputId": "16aeaec5-4f32-4d1d-99f8-254cbfe0219c"
      },
      "source": [
        "#identify which users are active by looking at their revenue per month\n",
        "user_purchase = df_plots.groupby(['CustomerID','InvoiceYearMonth'])['Revenue'].sum().reset_index()\n",
        "user_purchase.head()"
      ],
      "id": "gezCRX5Jg604",
      "execution_count": null,
      "outputs": [
        {
          "output_type": "execute_result",
          "data": {
            "text/html": [
              "<div>\n",
              "<style scoped>\n",
              "    .dataframe tbody tr th:only-of-type {\n",
              "        vertical-align: middle;\n",
              "    }\n",
              "\n",
              "    .dataframe tbody tr th {\n",
              "        vertical-align: top;\n",
              "    }\n",
              "\n",
              "    .dataframe thead th {\n",
              "        text-align: right;\n",
              "    }\n",
              "</style>\n",
              "<table border=\"1\" class=\"dataframe\">\n",
              "  <thead>\n",
              "    <tr style=\"text-align: right;\">\n",
              "      <th></th>\n",
              "      <th>CustomerID</th>\n",
              "      <th>InvoiceYearMonth</th>\n",
              "      <th>Revenue</th>\n",
              "    </tr>\n",
              "  </thead>\n",
              "  <tbody>\n",
              "    <tr>\n",
              "      <th>0</th>\n",
              "      <td>12346.0</td>\n",
              "      <td>201101</td>\n",
              "      <td>0.00</td>\n",
              "    </tr>\n",
              "    <tr>\n",
              "      <th>1</th>\n",
              "      <td>12747.0</td>\n",
              "      <td>201012</td>\n",
              "      <td>706.27</td>\n",
              "    </tr>\n",
              "    <tr>\n",
              "      <th>2</th>\n",
              "      <td>12747.0</td>\n",
              "      <td>201101</td>\n",
              "      <td>303.04</td>\n",
              "    </tr>\n",
              "    <tr>\n",
              "      <th>3</th>\n",
              "      <td>12747.0</td>\n",
              "      <td>201103</td>\n",
              "      <td>310.78</td>\n",
              "    </tr>\n",
              "    <tr>\n",
              "      <th>4</th>\n",
              "      <td>12747.0</td>\n",
              "      <td>201105</td>\n",
              "      <td>771.31</td>\n",
              "    </tr>\n",
              "  </tbody>\n",
              "</table>\n",
              "</div>"
            ],
            "text/plain": [
              "   CustomerID  InvoiceYearMonth  Revenue\n",
              "0     12346.0            201101     0.00\n",
              "1     12747.0            201012   706.27\n",
              "2     12747.0            201101   303.04\n",
              "3     12747.0            201103   310.78\n",
              "4     12747.0            201105   771.31"
            ]
          },
          "metadata": {},
          "execution_count": 40
        }
      ]
    },
    {
      "cell_type": "code",
      "metadata": {
        "hidden": true,
        "id": "-H8_3448rytF",
        "colab": {
          "base_uri": "https://localhost:8080/",
          "height": 206
        },
        "outputId": "48d4d9f6-2e3e-42a5-ebd8-5f5fb372aac3"
      },
      "source": [
        "#create retention matrix\n",
        "retention = pd.pivot_table(data=user_purchase,\n",
        "                           index='CustomerID',\n",
        "                           columns='InvoiceYearMonth',\n",
        "                           values='Revenue',\n",
        "                           aggfunc='count',\n",
        "                           fill_value=0).reset_index()\n",
        "\n",
        "retention.head()"
      ],
      "id": "-H8_3448rytF",
      "execution_count": null,
      "outputs": [
        {
          "output_type": "execute_result",
          "data": {
            "text/html": [
              "<div>\n",
              "<style scoped>\n",
              "    .dataframe tbody tr th:only-of-type {\n",
              "        vertical-align: middle;\n",
              "    }\n",
              "\n",
              "    .dataframe tbody tr th {\n",
              "        vertical-align: top;\n",
              "    }\n",
              "\n",
              "    .dataframe thead th {\n",
              "        text-align: right;\n",
              "    }\n",
              "</style>\n",
              "<table border=\"1\" class=\"dataframe\">\n",
              "  <thead>\n",
              "    <tr style=\"text-align: right;\">\n",
              "      <th>InvoiceYearMonth</th>\n",
              "      <th>CustomerID</th>\n",
              "      <th>201012</th>\n",
              "      <th>201101</th>\n",
              "      <th>201102</th>\n",
              "      <th>201103</th>\n",
              "      <th>201104</th>\n",
              "      <th>201105</th>\n",
              "      <th>201106</th>\n",
              "      <th>201107</th>\n",
              "      <th>201108</th>\n",
              "      <th>201109</th>\n",
              "      <th>201110</th>\n",
              "      <th>201111</th>\n",
              "      <th>201112</th>\n",
              "    </tr>\n",
              "  </thead>\n",
              "  <tbody>\n",
              "    <tr>\n",
              "      <th>0</th>\n",
              "      <td>12346.0</td>\n",
              "      <td>0</td>\n",
              "      <td>1</td>\n",
              "      <td>0</td>\n",
              "      <td>0</td>\n",
              "      <td>0</td>\n",
              "      <td>0</td>\n",
              "      <td>0</td>\n",
              "      <td>0</td>\n",
              "      <td>0</td>\n",
              "      <td>0</td>\n",
              "      <td>0</td>\n",
              "      <td>0</td>\n",
              "      <td>0</td>\n",
              "    </tr>\n",
              "    <tr>\n",
              "      <th>1</th>\n",
              "      <td>12747.0</td>\n",
              "      <td>1</td>\n",
              "      <td>1</td>\n",
              "      <td>0</td>\n",
              "      <td>1</td>\n",
              "      <td>0</td>\n",
              "      <td>1</td>\n",
              "      <td>1</td>\n",
              "      <td>0</td>\n",
              "      <td>1</td>\n",
              "      <td>0</td>\n",
              "      <td>1</td>\n",
              "      <td>1</td>\n",
              "      <td>1</td>\n",
              "    </tr>\n",
              "    <tr>\n",
              "      <th>2</th>\n",
              "      <td>12748.0</td>\n",
              "      <td>1</td>\n",
              "      <td>1</td>\n",
              "      <td>1</td>\n",
              "      <td>1</td>\n",
              "      <td>1</td>\n",
              "      <td>1</td>\n",
              "      <td>1</td>\n",
              "      <td>1</td>\n",
              "      <td>1</td>\n",
              "      <td>1</td>\n",
              "      <td>1</td>\n",
              "      <td>1</td>\n",
              "      <td>1</td>\n",
              "    </tr>\n",
              "    <tr>\n",
              "      <th>3</th>\n",
              "      <td>12749.0</td>\n",
              "      <td>0</td>\n",
              "      <td>0</td>\n",
              "      <td>0</td>\n",
              "      <td>0</td>\n",
              "      <td>0</td>\n",
              "      <td>1</td>\n",
              "      <td>0</td>\n",
              "      <td>0</td>\n",
              "      <td>1</td>\n",
              "      <td>0</td>\n",
              "      <td>0</td>\n",
              "      <td>1</td>\n",
              "      <td>1</td>\n",
              "    </tr>\n",
              "    <tr>\n",
              "      <th>4</th>\n",
              "      <td>12820.0</td>\n",
              "      <td>0</td>\n",
              "      <td>1</td>\n",
              "      <td>0</td>\n",
              "      <td>0</td>\n",
              "      <td>0</td>\n",
              "      <td>0</td>\n",
              "      <td>0</td>\n",
              "      <td>0</td>\n",
              "      <td>0</td>\n",
              "      <td>1</td>\n",
              "      <td>1</td>\n",
              "      <td>0</td>\n",
              "      <td>1</td>\n",
              "    </tr>\n",
              "  </tbody>\n",
              "</table>\n",
              "</div>"
            ],
            "text/plain": [
              "InvoiceYearMonth  CustomerID  201012  201101  ...  201110  201111  201112\n",
              "0                    12346.0       0       1  ...       0       0       0\n",
              "1                    12747.0       1       1  ...       1       1       1\n",
              "2                    12748.0       1       1  ...       1       1       1\n",
              "3                    12749.0       0       0  ...       0       1       1\n",
              "4                    12820.0       0       1  ...       1       0       1\n",
              "\n",
              "[5 rows x 14 columns]"
            ]
          },
          "metadata": {},
          "execution_count": 41
        }
      ]
    },
    {
      "cell_type": "code",
      "metadata": {
        "colab": {
          "base_uri": "https://localhost:8080/"
        },
        "id": "4DP2EGxI4k-6",
        "outputId": "834e3ecf-b6b2-4fcd-e74f-bec1f7331670"
      },
      "source": [
        "months = retention.columns[1:-1] # skip the last month\n",
        "months"
      ],
      "id": "4DP2EGxI4k-6",
      "execution_count": null,
      "outputs": [
        {
          "output_type": "execute_result",
          "data": {
            "text/plain": [
              "Index([201012, 201101, 201102, 201103, 201104, 201105, 201106, 201107, 201108,\n",
              "       201109, 201110, 201111],\n",
              "      dtype='object', name='InvoiceYearMonth')"
            ]
          },
          "metadata": {},
          "execution_count": 43
        }
      ]
    },
    {
      "cell_type": "code",
      "metadata": {
        "hidden": true,
        "id": "WaHw3bcarytG"
      },
      "source": [
        "#create an array of dictionary which keeps Retained & Total User count for each month\n",
        "months = retention.columns[1:-1] # skip the first and last month\n",
        "\n",
        "retention_list = []\n",
        "for i in range(len(months)-1):\n",
        "    retention_data = {}\n",
        "    selected_month = months[i+1]\n",
        "    prev_month = months[i]\n",
        "    retention_data['InvoiceYearMonth'] = selected_month\n",
        "    retention_data['TotalUserCount'] = retention[selected_month].sum()\n",
        "    retention_data['RetainedUserCount'] = retention.loc[(retention[selected_month]>0) & (retention[prev_month]>0),selected_month].sum()\n",
        "    retention_list.append(retention_data)"
      ],
      "id": "WaHw3bcarytG",
      "execution_count": null,
      "outputs": []
    },
    {
      "cell_type": "markdown",
      "source": [
        "(self explanation)"
      ],
      "metadata": {
        "id": "VS-cN-ma83ft"
      },
      "id": "VS-cN-ma83ft"
    },
    {
      "cell_type": "code",
      "metadata": {
        "colab": {
          "base_uri": "https://localhost:8080/"
        },
        "id": "Xpl2Hp4PA_kj",
        "outputId": "7fa6a637-2608-4f3d-94ee-abef6daee5cd"
      },
      "source": [
        "selected_month"
      ],
      "id": "Xpl2Hp4PA_kj",
      "execution_count": null,
      "outputs": [
        {
          "output_type": "execute_result",
          "data": {
            "text/plain": [
              "201111"
            ]
          },
          "metadata": {},
          "execution_count": 84
        }
      ]
    },
    {
      "cell_type": "code",
      "metadata": {
        "colab": {
          "base_uri": "https://localhost:8080/"
        },
        "id": "J-iDsccg-EJD",
        "outputId": "1f4d6587-64a7-4262-fa0e-2e709e0d0396"
      },
      "source": [
        "# .loc[a,b] chọn điểm giao giữa dòng a và cột b\n",
        "# .loc[[a,b]] chọn dòng a và b\n",
        "retention.loc[(retention[selected_month]>0) & (retention[prev_month]>0),selected_month].sum() \n",
        "# chọn dòng thoả 2 điều kiện tại cột (series) rồi sum lại "
      ],
      "id": "J-iDsccg-EJD",
      "execution_count": null,
      "outputs": [
        {
          "output_type": "execute_result",
          "data": {
            "text/plain": [
              "616"
            ]
          },
          "metadata": {},
          "execution_count": 78
        }
      ]
    },
    {
      "cell_type": "code",
      "metadata": {
        "colab": {
          "base_uri": "https://localhost:8080/"
        },
        "id": "owE9rlHp_vHH",
        "outputId": "c8e8f76a-3a7e-4eb8-acda-32b7a55a35d3"
      },
      "source": [
        "# thử làm theo đặt điều kiện cho cột\n",
        "retention[(retention[selected_month]>0) & (retention[prev_month]>0)][selected_month].sum() # cũng tương tự như cách trên nhưng đi theo cột trước dòng sau.\n",
        "# lưu ý: biến selected_month và prev_month là các biến trượt theo vòng for loop"
      ],
      "id": "owE9rlHp_vHH",
      "execution_count": null,
      "outputs": [
        {
          "output_type": "execute_result",
          "data": {
            "text/plain": [
              "616"
            ]
          },
          "metadata": {},
          "execution_count": 88
        }
      ]
    },
    {
      "cell_type": "code",
      "metadata": {
        "colab": {
          "base_uri": "https://localhost:8080/"
        },
        "id": "v0rLRv-2AgkY",
        "outputId": "909abe40-8d10-47c6-e9a4-c4a7a29e292b"
      },
      "source": [
        "# check \n",
        "retention_list"
      ],
      "id": "v0rLRv-2AgkY",
      "execution_count": null,
      "outputs": [
        {
          "output_type": "execute_result",
          "data": {
            "text/plain": [
              "[{'InvoiceYearMonth': 201101, 'RetainedUserCount': 322, 'TotalUserCount': 684},\n",
              " {'InvoiceYearMonth': 201102, 'RetainedUserCount': 263, 'TotalUserCount': 714},\n",
              " {'InvoiceYearMonth': 201103, 'RetainedUserCount': 305, 'TotalUserCount': 923},\n",
              " {'InvoiceYearMonth': 201104, 'RetainedUserCount': 310, 'TotalUserCount': 817},\n",
              " {'InvoiceYearMonth': 201105, 'RetainedUserCount': 369, 'TotalUserCount': 985},\n",
              " {'InvoiceYearMonth': 201106, 'RetainedUserCount': 417, 'TotalUserCount': 943},\n",
              " {'InvoiceYearMonth': 201107, 'RetainedUserCount': 379, 'TotalUserCount': 899},\n",
              " {'InvoiceYearMonth': 201108, 'RetainedUserCount': 391, 'TotalUserCount': 867},\n",
              " {'InvoiceYearMonth': 201109,\n",
              "  'RetainedUserCount': 417,\n",
              "  'TotalUserCount': 1177},\n",
              " {'InvoiceYearMonth': 201110,\n",
              "  'RetainedUserCount': 502,\n",
              "  'TotalUserCount': 1285},\n",
              " {'InvoiceYearMonth': 201111,\n",
              "  'RetainedUserCount': 616,\n",
              "  'TotalUserCount': 1548}]"
            ]
          },
          "metadata": {},
          "execution_count": 45
        }
      ]
    },
    {
      "cell_type": "code",
      "metadata": {
        "hidden": true,
        "id": "niVoVfn6rytG",
        "colab": {
          "base_uri": "https://localhost:8080/",
          "height": 394
        },
        "outputId": "dfff548b-dba5-464c-f955-5094be9f498b"
      },
      "source": [
        "# put into a dataframe and calculate retention rate \n",
        "retention_df= pd.DataFrame(retention_list)\n",
        "retention_df['RetentionRate'] = retention_df['RetainedUserCount']/retention_df['TotalUserCount']\n",
        "retention_df"
      ],
      "id": "niVoVfn6rytG",
      "execution_count": null,
      "outputs": [
        {
          "output_type": "execute_result",
          "data": {
            "text/html": [
              "<div>\n",
              "<style scoped>\n",
              "    .dataframe tbody tr th:only-of-type {\n",
              "        vertical-align: middle;\n",
              "    }\n",
              "\n",
              "    .dataframe tbody tr th {\n",
              "        vertical-align: top;\n",
              "    }\n",
              "\n",
              "    .dataframe thead th {\n",
              "        text-align: right;\n",
              "    }\n",
              "</style>\n",
              "<table border=\"1\" class=\"dataframe\">\n",
              "  <thead>\n",
              "    <tr style=\"text-align: right;\">\n",
              "      <th></th>\n",
              "      <th>InvoiceYearMonth</th>\n",
              "      <th>TotalUserCount</th>\n",
              "      <th>RetainedUserCount</th>\n",
              "      <th>RetentionRate</th>\n",
              "    </tr>\n",
              "  </thead>\n",
              "  <tbody>\n",
              "    <tr>\n",
              "      <th>0</th>\n",
              "      <td>201101</td>\n",
              "      <td>684</td>\n",
              "      <td>322</td>\n",
              "      <td>0.470760</td>\n",
              "    </tr>\n",
              "    <tr>\n",
              "      <th>1</th>\n",
              "      <td>201102</td>\n",
              "      <td>714</td>\n",
              "      <td>263</td>\n",
              "      <td>0.368347</td>\n",
              "    </tr>\n",
              "    <tr>\n",
              "      <th>2</th>\n",
              "      <td>201103</td>\n",
              "      <td>923</td>\n",
              "      <td>305</td>\n",
              "      <td>0.330444</td>\n",
              "    </tr>\n",
              "    <tr>\n",
              "      <th>3</th>\n",
              "      <td>201104</td>\n",
              "      <td>817</td>\n",
              "      <td>310</td>\n",
              "      <td>0.379437</td>\n",
              "    </tr>\n",
              "    <tr>\n",
              "      <th>4</th>\n",
              "      <td>201105</td>\n",
              "      <td>985</td>\n",
              "      <td>369</td>\n",
              "      <td>0.374619</td>\n",
              "    </tr>\n",
              "    <tr>\n",
              "      <th>5</th>\n",
              "      <td>201106</td>\n",
              "      <td>943</td>\n",
              "      <td>417</td>\n",
              "      <td>0.442206</td>\n",
              "    </tr>\n",
              "    <tr>\n",
              "      <th>6</th>\n",
              "      <td>201107</td>\n",
              "      <td>899</td>\n",
              "      <td>379</td>\n",
              "      <td>0.421580</td>\n",
              "    </tr>\n",
              "    <tr>\n",
              "      <th>7</th>\n",
              "      <td>201108</td>\n",
              "      <td>867</td>\n",
              "      <td>391</td>\n",
              "      <td>0.450980</td>\n",
              "    </tr>\n",
              "    <tr>\n",
              "      <th>8</th>\n",
              "      <td>201109</td>\n",
              "      <td>1177</td>\n",
              "      <td>417</td>\n",
              "      <td>0.354291</td>\n",
              "    </tr>\n",
              "    <tr>\n",
              "      <th>9</th>\n",
              "      <td>201110</td>\n",
              "      <td>1285</td>\n",
              "      <td>502</td>\n",
              "      <td>0.390661</td>\n",
              "    </tr>\n",
              "    <tr>\n",
              "      <th>10</th>\n",
              "      <td>201111</td>\n",
              "      <td>1548</td>\n",
              "      <td>616</td>\n",
              "      <td>0.397933</td>\n",
              "    </tr>\n",
              "  </tbody>\n",
              "</table>\n",
              "</div>"
            ],
            "text/plain": [
              "    InvoiceYearMonth  TotalUserCount  RetainedUserCount  RetentionRate\n",
              "0             201101             684                322       0.470760\n",
              "1             201102             714                263       0.368347\n",
              "2             201103             923                305       0.330444\n",
              "3             201104             817                310       0.379437\n",
              "4             201105             985                369       0.374619\n",
              "5             201106             943                417       0.442206\n",
              "6             201107             899                379       0.421580\n",
              "7             201108             867                391       0.450980\n",
              "8             201109            1177                417       0.354291\n",
              "9             201110            1285                502       0.390661\n",
              "10            201111            1548                616       0.397933"
            ]
          },
          "metadata": {},
          "execution_count": 46
        }
      ]
    },
    {
      "cell_type": "markdown",
      "metadata": {
        "hidden": true,
        "id": "_pQ1Tkc9rytH"
      },
      "source": [
        "Plot Retention rate vs month"
      ],
      "id": "_pQ1Tkc9rytH"
    },
    {
      "cell_type": "code",
      "metadata": {
        "colab": {
          "base_uri": "https://localhost:8080/",
          "height": 357
        },
        "id": "LN91lpTACkyo",
        "outputId": "da41c248-5a6e-4f44-da2d-e86166a91241"
      },
      "source": [
        "# Plot Retention rate by month\n",
        "retention_df.InvoiceYearMonth = retention_df.InvoiceYearMonth.map(str)\n",
        "plt.figure(figsize= (12,5))\n",
        "sns.lineplot(data=retention_df,x='InvoiceYearMonth',y='RetentionRate')"
      ],
      "id": "LN91lpTACkyo",
      "execution_count": null,
      "outputs": [
        {
          "output_type": "execute_result",
          "data": {
            "text/plain": [
              "<matplotlib.axes._subplots.AxesSubplot at 0x7f6fa3a378d0>"
            ]
          },
          "metadata": {},
          "execution_count": 91
        },
        {
          "output_type": "display_data",
          "data": {
            "image/png": "[encoded data removed]",
            "text/plain": [
              "<Figure size 864x360 with 1 Axes>"
            ]
          },
          "metadata": {}
        }
      ]
    },
    {
      "cell_type": "markdown",
      "metadata": {
        "hidden": true,
        "id": "KhQks9tirytH"
      },
      "source": [
        "Monthly Retention Rate significantly jumped from June to August and went back to previous levels afterwards. Let's take a dive into September 2011 as there is a massive drop (45% down to 35%)"
      ],
      "id": "KhQks9tirytH"
    },
    {
      "cell_type": "markdown",
      "metadata": {
        "id": "B85-1A5PrytH"
      },
      "source": [
        "# 6 - Customer Segmentation"
      ],
      "id": "B85-1A5PrytH"
    },
    {
      "cell_type": "markdown",
      "metadata": {
        "id": "7u4We3_XrytI"
      },
      "source": [
        "There are many different segmentations according to what we are trying to achieve. If we wish to increase retention rate, we can do a segmentation based on churn probability and take actions. \n",
        "\n",
        "**There are some common and useful segmentation methods as well. We are going to implement one of them to our business: RFM.**"
      ],
      "id": "7u4We3_XrytI"
    },
    {
      "cell_type": "markdown",
      "metadata": {
        "id": "Ap3q-50JrytI"
      },
      "source": [
        "**RFM stands for Recency - Frequency - Monetary Value.**\n",
        "\n",
        "RFM analysis numerically ranks a customer in each of these three categories, generally on a scale of 1 to 5 (the higher the number, the better the result). The \"best\" customer would receive a top score in every category."
      ],
      "id": "Ap3q-50JrytI"
    },
    {
      "cell_type": "markdown",
      "metadata": {
        "id": "GT9ySeC6rytJ"
      },
      "source": [
        "Theoretically we will have segments like below:\n",
        "\n",
        "- **Low Values**: Customers who are less active than others, not very frequent buyer/visitor and generates very low or zero net revenue.\n",
        "- **Mid Values**: In the middle of everything. Using our platform oftently (but not as much as our High Values), fairly frequent and generates moderate revenue.\n",
        "- **High Values**: The group we don’t want to lose. High Revenue, Frequency and low Inactivity."
      ],
      "id": "GT9ySeC6rytJ"
    },
    {
      "cell_type": "markdown",
      "metadata": {
        "id": "4IOze-8mrytJ"
      },
      "source": [
        "## Recency"
      ],
      "id": "4IOze-8mrytJ"
    },
    {
      "cell_type": "markdown",
      "metadata": {
        "id": "MmKjuGQSrytJ"
      },
      "source": [
        "**How can we calculate Recency in this dataset**\n",
        "- Find out most recent purchase date of each customer and **see how many days they are inactive for**\n",
        "- After having number of inactive days for each customer, **we will apply K-means clustering to assign customers a recency score.**"
      ],
      "id": "MmKjuGQSrytJ"
    },
    {
      "cell_type": "markdown",
      "metadata": {
        "id": "8tZHs84IrytJ"
      },
      "source": [
        "**Why do we need this**\n",
        "\n",
        "- The more recently a customer has made a purchase with a company, the more likely he or she will continue to keep the business and brand in mind for subsequent purchases\n",
        "- Such information can be used to remind recent customers to revisit the business soon to continue meeting their purchase needs. Marketing efforts could be made to remind them that it has been a while since their last transaction while offering them an incentive to rekindle their interests."
      ],
      "id": "8tZHs84IrytJ"
    },
    {
      "cell_type": "markdown",
      "metadata": {
        "id": "WATZnZFB-3E0"
      },
      "source": [
        "Steps:\n",
        "1. Find the latest InvoiceDate for each Customer\n",
        "2. Find the differences between the latest date of our entire dataset and the latest InvoiceDate for each customer. This will be the Recency"
      ],
      "id": "WATZnZFB-3E0"
    },
    {
      "cell_type": "code",
      "metadata": {
        "colab": {
          "base_uri": "https://localhost:8080/",
          "height": 423
        },
        "id": "3aGE37DNIFnb",
        "outputId": "e12695df-7606-4b07-b23b-283af4722e4a"
      },
      "source": [
        "max_purchase_date = df_plots.groupby('CustomerID')['InvoiceDate'].max().reset_index()\n",
        "max_purchase_date"
      ],
      "id": "3aGE37DNIFnb",
      "execution_count": null,
      "outputs": [
        {
          "output_type": "execute_result",
          "data": {
            "text/html": [
              "<div>\n",
              "<style scoped>\n",
              "    .dataframe tbody tr th:only-of-type {\n",
              "        vertical-align: middle;\n",
              "    }\n",
              "\n",
              "    .dataframe tbody tr th {\n",
              "        vertical-align: top;\n",
              "    }\n",
              "\n",
              "    .dataframe thead th {\n",
              "        text-align: right;\n",
              "    }\n",
              "</style>\n",
              "<table border=\"1\" class=\"dataframe\">\n",
              "  <thead>\n",
              "    <tr style=\"text-align: right;\">\n",
              "      <th></th>\n",
              "      <th>CustomerID</th>\n",
              "      <th>InvoiceDate</th>\n",
              "    </tr>\n",
              "  </thead>\n",
              "  <tbody>\n",
              "    <tr>\n",
              "      <th>0</th>\n",
              "      <td>12346.0</td>\n",
              "      <td>2011-01-18 10:17:00</td>\n",
              "    </tr>\n",
              "    <tr>\n",
              "      <th>1</th>\n",
              "      <td>12747.0</td>\n",
              "      <td>2011-12-07 14:34:00</td>\n",
              "    </tr>\n",
              "    <tr>\n",
              "      <th>2</th>\n",
              "      <td>12748.0</td>\n",
              "      <td>2011-12-09 12:20:00</td>\n",
              "    </tr>\n",
              "    <tr>\n",
              "      <th>3</th>\n",
              "      <td>12749.0</td>\n",
              "      <td>2011-12-06 09:56:00</td>\n",
              "    </tr>\n",
              "    <tr>\n",
              "      <th>4</th>\n",
              "      <td>12820.0</td>\n",
              "      <td>2011-12-06 15:12:00</td>\n",
              "    </tr>\n",
              "    <tr>\n",
              "      <th>...</th>\n",
              "      <td>...</td>\n",
              "      <td>...</td>\n",
              "    </tr>\n",
              "    <tr>\n",
              "      <th>3945</th>\n",
              "      <td>18280.0</td>\n",
              "      <td>2011-03-07 09:52:00</td>\n",
              "    </tr>\n",
              "    <tr>\n",
              "      <th>3946</th>\n",
              "      <td>18281.0</td>\n",
              "      <td>2011-06-12 10:53:00</td>\n",
              "    </tr>\n",
              "    <tr>\n",
              "      <th>3947</th>\n",
              "      <td>18282.0</td>\n",
              "      <td>2011-12-02 11:43:00</td>\n",
              "    </tr>\n",
              "    <tr>\n",
              "      <th>3948</th>\n",
              "      <td>18283.0</td>\n",
              "      <td>2011-12-06 12:02:00</td>\n",
              "    </tr>\n",
              "    <tr>\n",
              "      <th>3949</th>\n",
              "      <td>18287.0</td>\n",
              "      <td>2011-10-28 09:29:00</td>\n",
              "    </tr>\n",
              "  </tbody>\n",
              "</table>\n",
              "<p>3950 rows × 2 columns</p>\n",
              "</div>"
            ],
            "text/plain": [
              "      CustomerID         InvoiceDate\n",
              "0        12346.0 2011-01-18 10:17:00\n",
              "1        12747.0 2011-12-07 14:34:00\n",
              "2        12748.0 2011-12-09 12:20:00\n",
              "3        12749.0 2011-12-06 09:56:00\n",
              "4        12820.0 2011-12-06 15:12:00\n",
              "...          ...                 ...\n",
              "3945     18280.0 2011-03-07 09:52:00\n",
              "3946     18281.0 2011-06-12 10:53:00\n",
              "3947     18282.0 2011-12-02 11:43:00\n",
              "3948     18283.0 2011-12-06 12:02:00\n",
              "3949     18287.0 2011-10-28 09:29:00\n",
              "\n",
              "[3950 rows x 2 columns]"
            ]
          },
          "metadata": {},
          "execution_count": 48
        }
      ]
    },
    {
      "cell_type": "code",
      "metadata": {
        "id": "LxGA-HcQrytK",
        "colab": {
          "base_uri": "https://localhost:8080/"
        },
        "outputId": "ffddee0f-f092-4be3-a25f-13351090addd"
      },
      "source": [
        "Recency = df_plots['InvoiceDate'].max() - max_purchase_date['InvoiceDate']\n",
        "Recency"
      ],
      "id": "LxGA-HcQrytK",
      "execution_count": null,
      "outputs": [
        {
          "output_type": "execute_result",
          "data": {
            "text/plain": [
              "0      325 days 02:32:00\n",
              "1        1 days 22:15:00\n",
              "2        0 days 00:29:00\n",
              "3        3 days 02:53:00\n",
              "4        2 days 21:37:00\n",
              "              ...       \n",
              "3945   277 days 02:57:00\n",
              "3946   180 days 01:56:00\n",
              "3947     7 days 01:06:00\n",
              "3948     3 days 00:47:00\n",
              "3949    42 days 03:20:00\n",
              "Name: InvoiceDate, Length: 3950, dtype: timedelta64[ns]"
            ]
          },
          "metadata": {},
          "execution_count": 50
        }
      ]
    },
    {
      "cell_type": "code",
      "metadata": {
        "id": "2SS9d3z3TXXa"
      },
      "source": [
        "# Recency = (Recency / np.timedelta64(1,'D')).astype(int) if time delta is in day unit"
      ],
      "id": "2SS9d3z3TXXa",
      "execution_count": null,
      "outputs": []
    },
    {
      "cell_type": "code",
      "metadata": {
        "colab": {
          "base_uri": "https://localhost:8080/",
          "height": 423
        },
        "id": "1puYB8NaKq13",
        "outputId": "dc71ccba-fc66-4620-a1b1-78045c2e4f74"
      },
      "source": [
        "Recency = Recency.dt.days\n",
        "max_purchase_date['Recency'] = Recency\n",
        "recency = max_purchase_date\n",
        "recency"
      ],
      "id": "1puYB8NaKq13",
      "execution_count": null,
      "outputs": [
        {
          "output_type": "execute_result",
          "data": {
            "text/html": [
              "<div>\n",
              "<style scoped>\n",
              "    .dataframe tbody tr th:only-of-type {\n",
              "        vertical-align: middle;\n",
              "    }\n",
              "\n",
              "    .dataframe tbody tr th {\n",
              "        vertical-align: top;\n",
              "    }\n",
              "\n",
              "    .dataframe thead th {\n",
              "        text-align: right;\n",
              "    }\n",
              "</style>\n",
              "<table border=\"1\" class=\"dataframe\">\n",
              "  <thead>\n",
              "    <tr style=\"text-align: right;\">\n",
              "      <th></th>\n",
              "      <th>CustomerID</th>\n",
              "      <th>InvoiceDate</th>\n",
              "      <th>Recency</th>\n",
              "    </tr>\n",
              "  </thead>\n",
              "  <tbody>\n",
              "    <tr>\n",
              "      <th>0</th>\n",
              "      <td>12346.0</td>\n",
              "      <td>2011-01-18 10:17:00</td>\n",
              "      <td>325</td>\n",
              "    </tr>\n",
              "    <tr>\n",
              "      <th>1</th>\n",
              "      <td>12747.0</td>\n",
              "      <td>2011-12-07 14:34:00</td>\n",
              "      <td>1</td>\n",
              "    </tr>\n",
              "    <tr>\n",
              "      <th>2</th>\n",
              "      <td>12748.0</td>\n",
              "      <td>2011-12-09 12:20:00</td>\n",
              "      <td>0</td>\n",
              "    </tr>\n",
              "    <tr>\n",
              "      <th>3</th>\n",
              "      <td>12749.0</td>\n",
              "      <td>2011-12-06 09:56:00</td>\n",
              "      <td>3</td>\n",
              "    </tr>\n",
              "    <tr>\n",
              "      <th>4</th>\n",
              "      <td>12820.0</td>\n",
              "      <td>2011-12-06 15:12:00</td>\n",
              "      <td>2</td>\n",
              "    </tr>\n",
              "    <tr>\n",
              "      <th>...</th>\n",
              "      <td>...</td>\n",
              "      <td>...</td>\n",
              "      <td>...</td>\n",
              "    </tr>\n",
              "    <tr>\n",
              "      <th>3945</th>\n",
              "      <td>18280.0</td>\n",
              "      <td>2011-03-07 09:52:00</td>\n",
              "      <td>277</td>\n",
              "    </tr>\n",
              "    <tr>\n",
              "      <th>3946</th>\n",
              "      <td>18281.0</td>\n",
              "      <td>2011-06-12 10:53:00</td>\n",
              "      <td>180</td>\n",
              "    </tr>\n",
              "    <tr>\n",
              "      <th>3947</th>\n",
              "      <td>18282.0</td>\n",
              "      <td>2011-12-02 11:43:00</td>\n",
              "      <td>7</td>\n",
              "    </tr>\n",
              "    <tr>\n",
              "      <th>3948</th>\n",
              "      <td>18283.0</td>\n",
              "      <td>2011-12-06 12:02:00</td>\n",
              "      <td>3</td>\n",
              "    </tr>\n",
              "    <tr>\n",
              "      <th>3949</th>\n",
              "      <td>18287.0</td>\n",
              "      <td>2011-10-28 09:29:00</td>\n",
              "      <td>42</td>\n",
              "    </tr>\n",
              "  </tbody>\n",
              "</table>\n",
              "<p>3950 rows × 3 columns</p>\n",
              "</div>"
            ],
            "text/plain": [
              "      CustomerID         InvoiceDate  Recency\n",
              "0        12346.0 2011-01-18 10:17:00      325\n",
              "1        12747.0 2011-12-07 14:34:00        1\n",
              "2        12748.0 2011-12-09 12:20:00        0\n",
              "3        12749.0 2011-12-06 09:56:00        3\n",
              "4        12820.0 2011-12-06 15:12:00        2\n",
              "...          ...                 ...      ...\n",
              "3945     18280.0 2011-03-07 09:52:00      277\n",
              "3946     18281.0 2011-06-12 10:53:00      180\n",
              "3947     18282.0 2011-12-02 11:43:00        7\n",
              "3948     18283.0 2011-12-06 12:02:00        3\n",
              "3949     18287.0 2011-10-28 09:29:00       42\n",
              "\n",
              "[3950 rows x 3 columns]"
            ]
          },
          "metadata": {},
          "execution_count": 52
        }
      ]
    },
    {
      "cell_type": "code",
      "metadata": {
        "colab": {
          "base_uri": "https://localhost:8080/",
          "height": 357
        },
        "id": "RxO64a-OQG-0",
        "outputId": "80e7331b-0f54-4f75-941f-5a5bb265e619"
      },
      "source": [
        "plt.figure(figsize = (12,5))\n",
        "sns.histplot(data = Recency)"
      ],
      "id": "RxO64a-OQG-0",
      "execution_count": null,
      "outputs": [
        {
          "output_type": "execute_result",
          "data": {
            "text/plain": [
              "<matplotlib.axes._subplots.AxesSubplot at 0x7f6f99659b90>"
            ]
          },
          "metadata": {},
          "execution_count": 223
        },
        {
          "output_type": "display_data",
          "data": {
            "image/png": "[encoded data removed]",
            "text/plain": [
              "<Figure size 864x360 with 1 Axes>"
            ]
          },
          "metadata": {}
        }
      ]
    },
    {
      "cell_type": "markdown",
      "metadata": {
        "id": "EqgieoefrytL"
      },
      "source": [
        "### Apply kmeans on Recency to put users in groups"
      ],
      "id": "EqgieoefrytL"
    },
    {
      "cell_type": "markdown",
      "metadata": {
        "id": "Cr0kikRBrytL"
      },
      "source": [
        "Using elbow method to approximate the number of clusters"
      ],
      "id": "Cr0kikRBrytL"
    },
    {
      "cell_type": "code",
      "metadata": {
        "colab": {
          "base_uri": "https://localhost:8080/"
        },
        "id": "qo7yuGGogMQA",
        "outputId": "46bc078f-7fab-4305-cbb3-54c96769659c"
      },
      "source": [
        "X = recency[['Recency']]\n",
        "X.shape"
      ],
      "id": "qo7yuGGogMQA",
      "execution_count": null,
      "outputs": [
        {
          "output_type": "execute_result",
          "data": {
            "text/plain": [
              "(3950, 1)"
            ]
          },
          "metadata": {},
          "execution_count": 57
        }
      ]
    },
    {
      "cell_type": "code",
      "metadata": {
        "colab": {
          "base_uri": "https://localhost:8080/",
          "height": 285
        },
        "id": "TEiYDXGe0fJ2",
        "outputId": "e2d6e117-ffd8-499d-c2a8-c334c1898c12"
      },
      "source": [
        "# Visulization to find the elbow\n",
        "from sklearn.cluster import KMeans\n",
        "\n",
        "k_values = range(1,10)\n",
        "k_mean_models = [KMeans(n_clusters=k) for k in k_values]\n",
        "scores = [kmean.fit(X).score(X) for kmean in k_mean_models]\n",
        "\n",
        "norm_scores = [score/max(scores) for score in scores]\n",
        "\n",
        "plt.plot(k_values,norm_scores)\n",
        "plt.xlabel('k')\n",
        "\n",
        "plt.xticks(range(1, 10))\n",
        "plt.ylabel('score');"
      ],
      "id": "TEiYDXGe0fJ2",
      "execution_count": null,
      "outputs": [
        {
          "output_type": "display_data",
          "data": {
            "image/png": "[encoded data removed]",
            "text/plain": [
              "<Figure size 432x288 with 1 Axes>"
            ]
          },
          "metadata": {}
        }
      ]
    },
    {
      "cell_type": "markdown",
      "metadata": {
        "id": "uLvtSSzzHqaP"
      },
      "source": [
        "For this LAB we will use K = 4 to help with the diversity of our customer segmentation"
      ],
      "id": "uLvtSSzzHqaP"
    },
    {
      "cell_type": "code",
      "metadata": {
        "id": "ByqCh7cArytL",
        "colab": {
          "base_uri": "https://localhost:8080/",
          "height": 423
        },
        "outputId": "2eb0631e-a0c9-4334-e1c5-84607a61d04b"
      },
      "source": [
        "k = 4\n",
        "kmeans = KMeans(n_clusters = k)\n",
        "kmeans.fit(X)\n",
        "recency['RecencyCluster'] = kmeans.predict(X)\n",
        "\n",
        "recency"
      ],
      "id": "ByqCh7cArytL",
      "execution_count": null,
      "outputs": [
        {
          "output_type": "execute_result",
          "data": {
            "text/html": [
              "<div>\n",
              "<style scoped>\n",
              "    .dataframe tbody tr th:only-of-type {\n",
              "        vertical-align: middle;\n",
              "    }\n",
              "\n",
              "    .dataframe tbody tr th {\n",
              "        vertical-align: top;\n",
              "    }\n",
              "\n",
              "    .dataframe thead th {\n",
              "        text-align: right;\n",
              "    }\n",
              "</style>\n",
              "<table border=\"1\" class=\"dataframe\">\n",
              "  <thead>\n",
              "    <tr style=\"text-align: right;\">\n",
              "      <th></th>\n",
              "      <th>CustomerID</th>\n",
              "      <th>InvoiceDate</th>\n",
              "      <th>Recency</th>\n",
              "      <th>RecencyCluster</th>\n",
              "    </tr>\n",
              "  </thead>\n",
              "  <tbody>\n",
              "    <tr>\n",
              "      <th>0</th>\n",
              "      <td>12346.0</td>\n",
              "      <td>2011-01-18 10:17:00</td>\n",
              "      <td>325</td>\n",
              "      <td>0</td>\n",
              "    </tr>\n",
              "    <tr>\n",
              "      <th>1</th>\n",
              "      <td>12747.0</td>\n",
              "      <td>2011-12-07 14:34:00</td>\n",
              "      <td>1</td>\n",
              "      <td>3</td>\n",
              "    </tr>\n",
              "    <tr>\n",
              "      <th>2</th>\n",
              "      <td>12748.0</td>\n",
              "      <td>2011-12-09 12:20:00</td>\n",
              "      <td>0</td>\n",
              "      <td>3</td>\n",
              "    </tr>\n",
              "    <tr>\n",
              "      <th>3</th>\n",
              "      <td>12749.0</td>\n",
              "      <td>2011-12-06 09:56:00</td>\n",
              "      <td>3</td>\n",
              "      <td>3</td>\n",
              "    </tr>\n",
              "    <tr>\n",
              "      <th>4</th>\n",
              "      <td>12820.0</td>\n",
              "      <td>2011-12-06 15:12:00</td>\n",
              "      <td>2</td>\n",
              "      <td>3</td>\n",
              "    </tr>\n",
              "    <tr>\n",
              "      <th>...</th>\n",
              "      <td>...</td>\n",
              "      <td>...</td>\n",
              "      <td>...</td>\n",
              "      <td>...</td>\n",
              "    </tr>\n",
              "    <tr>\n",
              "      <th>3945</th>\n",
              "      <td>18280.0</td>\n",
              "      <td>2011-03-07 09:52:00</td>\n",
              "      <td>277</td>\n",
              "      <td>0</td>\n",
              "    </tr>\n",
              "    <tr>\n",
              "      <th>3946</th>\n",
              "      <td>18281.0</td>\n",
              "      <td>2011-06-12 10:53:00</td>\n",
              "      <td>180</td>\n",
              "      <td>2</td>\n",
              "    </tr>\n",
              "    <tr>\n",
              "      <th>3947</th>\n",
              "      <td>18282.0</td>\n",
              "      <td>2011-12-02 11:43:00</td>\n",
              "      <td>7</td>\n",
              "      <td>3</td>\n",
              "    </tr>\n",
              "    <tr>\n",
              "      <th>3948</th>\n",
              "      <td>18283.0</td>\n",
              "      <td>2011-12-06 12:02:00</td>\n",
              "      <td>3</td>\n",
              "      <td>3</td>\n",
              "    </tr>\n",
              "    <tr>\n",
              "      <th>3949</th>\n",
              "      <td>18287.0</td>\n",
              "      <td>2011-10-28 09:29:00</td>\n",
              "      <td>42</td>\n",
              "      <td>3</td>\n",
              "    </tr>\n",
              "  </tbody>\n",
              "</table>\n",
              "<p>3950 rows × 4 columns</p>\n",
              "</div>"
            ],
            "text/plain": [
              "      CustomerID         InvoiceDate  Recency  RecencyCluster\n",
              "0        12346.0 2011-01-18 10:17:00      325               0\n",
              "1        12747.0 2011-12-07 14:34:00        1               3\n",
              "2        12748.0 2011-12-09 12:20:00        0               3\n",
              "3        12749.0 2011-12-06 09:56:00        3               3\n",
              "4        12820.0 2011-12-06 15:12:00        2               3\n",
              "...          ...                 ...      ...             ...\n",
              "3945     18280.0 2011-03-07 09:52:00      277               0\n",
              "3946     18281.0 2011-06-12 10:53:00      180               2\n",
              "3947     18282.0 2011-12-02 11:43:00        7               3\n",
              "3948     18283.0 2011-12-06 12:02:00        3               3\n",
              "3949     18287.0 2011-10-28 09:29:00       42               3\n",
              "\n",
              "[3950 rows x 4 columns]"
            ]
          },
          "metadata": {},
          "execution_count": 63
        }
      ]
    },
    {
      "cell_type": "markdown",
      "metadata": {
        "id": "7SO12-fy6yOC"
      },
      "source": [
        "We will use the function below for this task (Make sure to set ascending)"
      ],
      "id": "7SO12-fy6yOC"
    },
    {
      "cell_type": "code",
      "metadata": {
        "id": "CxMrB8oArytM"
      },
      "source": [
        "#function for ordering cluster numbers\n",
        "def order_cluster(cluster_field_name, target_field_name,df,ascending):\n",
        "    df_new = df.groupby(cluster_field_name)[target_field_name].mean().reset_index()\n",
        "    df_new = df_new.sort_values(by=target_field_name,ascending=ascending).reset_index(drop=True)\n",
        "    df_new['index'] = df_new.index\n",
        "    df_final = pd.merge(df,df_new[[cluster_field_name,'index']], on=cluster_field_name)\n",
        "    df_final = df_final.drop([cluster_field_name],axis=1)\n",
        "    df_final = df_final.rename(columns={\"index\":cluster_field_name})\n",
        "    return df_final"
      ],
      "id": "CxMrB8oArytM",
      "execution_count": null,
      "outputs": []
    },
    {
      "cell_type": "code",
      "metadata": {
        "colab": {
          "base_uri": "https://localhost:8080/",
          "height": 206
        },
        "id": "BEifx2dpoU-z",
        "outputId": "e9543680-e6e8-4145-b893-364d687ce71c"
      },
      "source": [
        "recency = order_cluster('RecencyCluster', 'Recency',recency, ascending = False)\n",
        "recency.drop(columns = 'InvoiceDate', inplace = True)\n",
        "recency.head()"
      ],
      "id": "BEifx2dpoU-z",
      "execution_count": null,
      "outputs": [
        {
          "output_type": "execute_result",
          "data": {
            "text/html": [
              "<div>\n",
              "<style scoped>\n",
              "    .dataframe tbody tr th:only-of-type {\n",
              "        vertical-align: middle;\n",
              "    }\n",
              "\n",
              "    .dataframe tbody tr th {\n",
              "        vertical-align: top;\n",
              "    }\n",
              "\n",
              "    .dataframe thead th {\n",
              "        text-align: right;\n",
              "    }\n",
              "</style>\n",
              "<table border=\"1\" class=\"dataframe\">\n",
              "  <thead>\n",
              "    <tr style=\"text-align: right;\">\n",
              "      <th></th>\n",
              "      <th>CustomerID</th>\n",
              "      <th>Recency</th>\n",
              "      <th>RecencyCluster</th>\n",
              "    </tr>\n",
              "  </thead>\n",
              "  <tbody>\n",
              "    <tr>\n",
              "      <th>0</th>\n",
              "      <td>12346.0</td>\n",
              "      <td>325</td>\n",
              "      <td>0</td>\n",
              "    </tr>\n",
              "    <tr>\n",
              "      <th>1</th>\n",
              "      <td>12829.0</td>\n",
              "      <td>321</td>\n",
              "      <td>0</td>\n",
              "    </tr>\n",
              "    <tr>\n",
              "      <th>2</th>\n",
              "      <td>12831.0</td>\n",
              "      <td>261</td>\n",
              "      <td>0</td>\n",
              "    </tr>\n",
              "    <tr>\n",
              "      <th>3</th>\n",
              "      <td>12834.0</td>\n",
              "      <td>282</td>\n",
              "      <td>0</td>\n",
              "    </tr>\n",
              "    <tr>\n",
              "      <th>4</th>\n",
              "      <td>12845.0</td>\n",
              "      <td>266</td>\n",
              "      <td>0</td>\n",
              "    </tr>\n",
              "  </tbody>\n",
              "</table>\n",
              "</div>"
            ],
            "text/plain": [
              "   CustomerID  Recency  RecencyCluster\n",
              "0     12346.0      325               0\n",
              "1     12829.0      321               0\n",
              "2     12831.0      261               0\n",
              "3     12834.0      282               0\n",
              "4     12845.0      266               0"
            ]
          },
          "metadata": {},
          "execution_count": 68
        }
      ]
    },
    {
      "cell_type": "code",
      "metadata": {
        "colab": {
          "base_uri": "https://localhost:8080/",
          "height": 206
        },
        "id": "6_F6F9-togCn",
        "outputId": "8efea88a-a898-437e-8d2b-0df225bb65b7"
      },
      "source": [
        "recency.groupby('RecencyCluster').Recency.describe()"
      ],
      "id": "6_F6F9-togCn",
      "execution_count": null,
      "outputs": [
        {
          "output_type": "execute_result",
          "data": {
            "text/html": [
              "<div>\n",
              "<style scoped>\n",
              "    .dataframe tbody tr th:only-of-type {\n",
              "        vertical-align: middle;\n",
              "    }\n",
              "\n",
              "    .dataframe tbody tr th {\n",
              "        vertical-align: top;\n",
              "    }\n",
              "\n",
              "    .dataframe thead th {\n",
              "        text-align: right;\n",
              "    }\n",
              "</style>\n",
              "<table border=\"1\" class=\"dataframe\">\n",
              "  <thead>\n",
              "    <tr style=\"text-align: right;\">\n",
              "      <th></th>\n",
              "      <th>count</th>\n",
              "      <th>mean</th>\n",
              "      <th>std</th>\n",
              "      <th>min</th>\n",
              "      <th>25%</th>\n",
              "      <th>50%</th>\n",
              "      <th>75%</th>\n",
              "      <th>max</th>\n",
              "    </tr>\n",
              "    <tr>\n",
              "      <th>RecencyCluster</th>\n",
              "      <th></th>\n",
              "      <th></th>\n",
              "      <th></th>\n",
              "      <th></th>\n",
              "      <th></th>\n",
              "      <th></th>\n",
              "      <th></th>\n",
              "      <th></th>\n",
              "    </tr>\n",
              "  </thead>\n",
              "  <tbody>\n",
              "    <tr>\n",
              "      <th>0</th>\n",
              "      <td>478.0</td>\n",
              "      <td>304.393305</td>\n",
              "      <td>41.183489</td>\n",
              "      <td>245.0</td>\n",
              "      <td>266.25</td>\n",
              "      <td>300.0</td>\n",
              "      <td>336.00</td>\n",
              "      <td>373.0</td>\n",
              "    </tr>\n",
              "    <tr>\n",
              "      <th>1</th>\n",
              "      <td>568.0</td>\n",
              "      <td>184.625000</td>\n",
              "      <td>31.753602</td>\n",
              "      <td>132.0</td>\n",
              "      <td>156.75</td>\n",
              "      <td>184.0</td>\n",
              "      <td>211.25</td>\n",
              "      <td>244.0</td>\n",
              "    </tr>\n",
              "    <tr>\n",
              "      <th>2</th>\n",
              "      <td>954.0</td>\n",
              "      <td>77.679245</td>\n",
              "      <td>22.850898</td>\n",
              "      <td>48.0</td>\n",
              "      <td>59.00</td>\n",
              "      <td>72.5</td>\n",
              "      <td>93.00</td>\n",
              "      <td>131.0</td>\n",
              "    </tr>\n",
              "    <tr>\n",
              "      <th>3</th>\n",
              "      <td>1950.0</td>\n",
              "      <td>17.488205</td>\n",
              "      <td>13.237058</td>\n",
              "      <td>0.0</td>\n",
              "      <td>6.00</td>\n",
              "      <td>16.0</td>\n",
              "      <td>28.00</td>\n",
              "      <td>47.0</td>\n",
              "    </tr>\n",
              "  </tbody>\n",
              "</table>\n",
              "</div>"
            ],
            "text/plain": [
              "                 count        mean        std  ...    50%     75%    max\n",
              "RecencyCluster                                 ...                      \n",
              "0                478.0  304.393305  41.183489  ...  300.0  336.00  373.0\n",
              "1                568.0  184.625000  31.753602  ...  184.0  211.25  244.0\n",
              "2                954.0   77.679245  22.850898  ...   72.5   93.00  131.0\n",
              "3               1950.0   17.488205  13.237058  ...   16.0   28.00   47.0\n",
              "\n",
              "[4 rows x 8 columns]"
            ]
          },
          "metadata": {},
          "execution_count": 69
        }
      ]
    },
    {
      "cell_type": "markdown",
      "metadata": {
        "id": "6A09rcgUrytM"
      },
      "source": [
        "Higher score for Recency = better customers (as their inactive time is low)"
      ],
      "id": "6A09rcgUrytM"
    },
    {
      "cell_type": "markdown",
      "metadata": {
        "id": "5_BvccvzrytN"
      },
      "source": [
        "## Frequency"
      ],
      "id": "5_BvccvzrytN"
    },
    {
      "cell_type": "markdown",
      "metadata": {
        "id": "DVvZfvNsrytN"
      },
      "source": [
        "**Why do we need this**\n",
        "\n",
        "The frequency of a customer’s transactions may be affected by factors such as the type of product, the price point for the purchase, and the need for replenishment or replacement. \n",
        "\n",
        "In order to increase customers' frequency, we can try to predict their purchase cycle, for example when a customer needs to buy new groceries, marketing efforts could be directed towards reminding them to visit the business when items such as eggs or milk have been depleted.\n",
        "\n",
        "How can we calculate frequency for this dataset? We just need to find total number orders for each customer."
      ],
      "id": "DVvZfvNsrytN"
    },
    {
      "cell_type": "code",
      "metadata": {
        "id": "v3ThUgqPrytN",
        "colab": {
          "base_uri": "https://localhost:8080/",
          "height": 423
        },
        "outputId": "aeffd885-a105-4318-a8de-cb98c661915d"
      },
      "source": [
        "# Dataframe to show Frequency of each CustomerID\n",
        "frequency = df_plots.groupby('CustomerID')['InvoiceDate'].count().reset_index()\n",
        "frequency.rename(columns = {'InvoiceDate': 'Frequency'}, inplace = True)\n",
        "frequency"
      ],
      "id": "v3ThUgqPrytN",
      "execution_count": null,
      "outputs": [
        {
          "output_type": "execute_result",
          "data": {
            "text/html": [
              "<div>\n",
              "<style scoped>\n",
              "    .dataframe tbody tr th:only-of-type {\n",
              "        vertical-align: middle;\n",
              "    }\n",
              "\n",
              "    .dataframe tbody tr th {\n",
              "        vertical-align: top;\n",
              "    }\n",
              "\n",
              "    .dataframe thead th {\n",
              "        text-align: right;\n",
              "    }\n",
              "</style>\n",
              "<table border=\"1\" class=\"dataframe\">\n",
              "  <thead>\n",
              "    <tr style=\"text-align: right;\">\n",
              "      <th></th>\n",
              "      <th>CustomerID</th>\n",
              "      <th>Frequency</th>\n",
              "    </tr>\n",
              "  </thead>\n",
              "  <tbody>\n",
              "    <tr>\n",
              "      <th>0</th>\n",
              "      <td>12346.0</td>\n",
              "      <td>2</td>\n",
              "    </tr>\n",
              "    <tr>\n",
              "      <th>1</th>\n",
              "      <td>12747.0</td>\n",
              "      <td>103</td>\n",
              "    </tr>\n",
              "    <tr>\n",
              "      <th>2</th>\n",
              "      <td>12748.0</td>\n",
              "      <td>4642</td>\n",
              "    </tr>\n",
              "    <tr>\n",
              "      <th>3</th>\n",
              "      <td>12749.0</td>\n",
              "      <td>231</td>\n",
              "    </tr>\n",
              "    <tr>\n",
              "      <th>4</th>\n",
              "      <td>12820.0</td>\n",
              "      <td>59</td>\n",
              "    </tr>\n",
              "    <tr>\n",
              "      <th>...</th>\n",
              "      <td>...</td>\n",
              "      <td>...</td>\n",
              "    </tr>\n",
              "    <tr>\n",
              "      <th>3945</th>\n",
              "      <td>18280.0</td>\n",
              "      <td>10</td>\n",
              "    </tr>\n",
              "    <tr>\n",
              "      <th>3946</th>\n",
              "      <td>18281.0</td>\n",
              "      <td>7</td>\n",
              "    </tr>\n",
              "    <tr>\n",
              "      <th>3947</th>\n",
              "      <td>18282.0</td>\n",
              "      <td>13</td>\n",
              "    </tr>\n",
              "    <tr>\n",
              "      <th>3948</th>\n",
              "      <td>18283.0</td>\n",
              "      <td>756</td>\n",
              "    </tr>\n",
              "    <tr>\n",
              "      <th>3949</th>\n",
              "      <td>18287.0</td>\n",
              "      <td>70</td>\n",
              "    </tr>\n",
              "  </tbody>\n",
              "</table>\n",
              "<p>3950 rows × 2 columns</p>\n",
              "</div>"
            ],
            "text/plain": [
              "      CustomerID  Frequency\n",
              "0        12346.0          2\n",
              "1        12747.0        103\n",
              "2        12748.0       4642\n",
              "3        12749.0        231\n",
              "4        12820.0         59\n",
              "...          ...        ...\n",
              "3945     18280.0         10\n",
              "3946     18281.0          7\n",
              "3947     18282.0         13\n",
              "3948     18283.0        756\n",
              "3949     18287.0         70\n",
              "\n",
              "[3950 rows x 2 columns]"
            ]
          },
          "metadata": {},
          "execution_count": 94
        }
      ]
    },
    {
      "cell_type": "code",
      "metadata": {
        "colab": {
          "base_uri": "https://localhost:8080/",
          "height": 338
        },
        "id": "T643UetC1jyr",
        "outputId": "4f416e67-e167-460b-e8ff-24a66c4bf650"
      },
      "source": [
        "plt.figure(figsize = (12,5))\n",
        "sns.histplot(data = frequency['Frequency'])\n",
        "plt.xlim(-10,500)\n",
        "plt.show()"
      ],
      "id": "T643UetC1jyr",
      "execution_count": null,
      "outputs": [
        {
          "output_type": "display_data",
          "data": {
            "image/png": "[encoded data removed]",
            "text/plain": [
              "<Figure size 864x360 with 1 Axes>"
            ]
          },
          "metadata": {}
        }
      ]
    },
    {
      "cell_type": "markdown",
      "metadata": {
        "id": "Z7IMRGtVrytO"
      },
      "source": [
        "### Applying kmeans"
      ],
      "id": "Z7IMRGtVrytO"
    },
    {
      "cell_type": "markdown",
      "metadata": {
        "id": "D0c3yWuFH7nL"
      },
      "source": [
        "Used the same K as above to keep the range of score consistent"
      ],
      "id": "D0c3yWuFH7nL"
    },
    {
      "cell_type": "code",
      "metadata": {
        "id": "PlfKBuiJrytO"
      },
      "source": [
        "X = frequency[['Frequency']]\n",
        "kmeans = KMeans(n_clusters=4)\n",
        "kmeans.fit(X)\n",
        "frequency['FrequencyCluster'] = kmeans.predict(X)"
      ],
      "id": "PlfKBuiJrytO",
      "execution_count": null,
      "outputs": []
    },
    {
      "cell_type": "code",
      "metadata": {
        "id": "xGT60EX-Dnq3",
        "colab": {
          "base_uri": "https://localhost:8080/",
          "height": 206
        },
        "outputId": "3ed3aed6-bec5-4f4e-a472-41e961d38468"
      },
      "source": [
        "#order the frequency cluster\n",
        "frequency = order_cluster('FrequencyCluster', 'Frequency',frequency,True)\n",
        "frequency.head()"
      ],
      "id": "xGT60EX-Dnq3",
      "execution_count": null,
      "outputs": [
        {
          "output_type": "execute_result",
          "data": {
            "text/html": [
              "<div>\n",
              "<style scoped>\n",
              "    .dataframe tbody tr th:only-of-type {\n",
              "        vertical-align: middle;\n",
              "    }\n",
              "\n",
              "    .dataframe tbody tr th {\n",
              "        vertical-align: top;\n",
              "    }\n",
              "\n",
              "    .dataframe thead th {\n",
              "        text-align: right;\n",
              "    }\n",
              "</style>\n",
              "<table border=\"1\" class=\"dataframe\">\n",
              "  <thead>\n",
              "    <tr style=\"text-align: right;\">\n",
              "      <th></th>\n",
              "      <th>CustomerID</th>\n",
              "      <th>Frequency</th>\n",
              "      <th>FrequencyCluster</th>\n",
              "    </tr>\n",
              "  </thead>\n",
              "  <tbody>\n",
              "    <tr>\n",
              "      <th>0</th>\n",
              "      <td>12346.0</td>\n",
              "      <td>2</td>\n",
              "      <td>0</td>\n",
              "    </tr>\n",
              "    <tr>\n",
              "      <th>1</th>\n",
              "      <td>12747.0</td>\n",
              "      <td>103</td>\n",
              "      <td>0</td>\n",
              "    </tr>\n",
              "    <tr>\n",
              "      <th>2</th>\n",
              "      <td>12820.0</td>\n",
              "      <td>59</td>\n",
              "      <td>0</td>\n",
              "    </tr>\n",
              "    <tr>\n",
              "      <th>3</th>\n",
              "      <td>12821.0</td>\n",
              "      <td>6</td>\n",
              "      <td>0</td>\n",
              "    </tr>\n",
              "    <tr>\n",
              "      <th>4</th>\n",
              "      <td>12822.0</td>\n",
              "      <td>47</td>\n",
              "      <td>0</td>\n",
              "    </tr>\n",
              "  </tbody>\n",
              "</table>\n",
              "</div>"
            ],
            "text/plain": [
              "   CustomerID  Frequency  FrequencyCluster\n",
              "0     12346.0          2                 0\n",
              "1     12747.0        103                 0\n",
              "2     12820.0         59                 0\n",
              "3     12821.0          6                 0\n",
              "4     12822.0         47                 0"
            ]
          },
          "metadata": {},
          "execution_count": 102
        }
      ]
    },
    {
      "cell_type": "code",
      "metadata": {
        "colab": {
          "base_uri": "https://localhost:8080/",
          "height": 206
        },
        "id": "RjKQUcpK6A5x",
        "outputId": "fa473fb8-8b20-4aeb-ab98-f5616f919d57"
      },
      "source": [
        "#see details of each cluster\n",
        "frequency.groupby('FrequencyCluster').Frequency.describe()"
      ],
      "id": "RjKQUcpK6A5x",
      "execution_count": null,
      "outputs": [
        {
          "output_type": "execute_result",
          "data": {
            "text/html": [
              "<div>\n",
              "<style scoped>\n",
              "    .dataframe tbody tr th:only-of-type {\n",
              "        vertical-align: middle;\n",
              "    }\n",
              "\n",
              "    .dataframe tbody tr th {\n",
              "        vertical-align: top;\n",
              "    }\n",
              "\n",
              "    .dataframe thead th {\n",
              "        text-align: right;\n",
              "    }\n",
              "</style>\n",
              "<table border=\"1\" class=\"dataframe\">\n",
              "  <thead>\n",
              "    <tr style=\"text-align: right;\">\n",
              "      <th></th>\n",
              "      <th>count</th>\n",
              "      <th>mean</th>\n",
              "      <th>std</th>\n",
              "      <th>min</th>\n",
              "      <th>25%</th>\n",
              "      <th>50%</th>\n",
              "      <th>75%</th>\n",
              "      <th>max</th>\n",
              "    </tr>\n",
              "    <tr>\n",
              "      <th>FrequencyCluster</th>\n",
              "      <th></th>\n",
              "      <th></th>\n",
              "      <th></th>\n",
              "      <th></th>\n",
              "      <th></th>\n",
              "      <th></th>\n",
              "      <th></th>\n",
              "      <th></th>\n",
              "    </tr>\n",
              "  </thead>\n",
              "  <tbody>\n",
              "    <tr>\n",
              "      <th>0</th>\n",
              "      <td>3496.0</td>\n",
              "      <td>49.525744</td>\n",
              "      <td>44.954212</td>\n",
              "      <td>1.0</td>\n",
              "      <td>15.0</td>\n",
              "      <td>33.0</td>\n",
              "      <td>73.0</td>\n",
              "      <td>190.0</td>\n",
              "    </tr>\n",
              "    <tr>\n",
              "      <th>1</th>\n",
              "      <td>429.0</td>\n",
              "      <td>331.221445</td>\n",
              "      <td>133.856510</td>\n",
              "      <td>191.0</td>\n",
              "      <td>228.0</td>\n",
              "      <td>287.0</td>\n",
              "      <td>399.0</td>\n",
              "      <td>803.0</td>\n",
              "    </tr>\n",
              "    <tr>\n",
              "      <th>2</th>\n",
              "      <td>22.0</td>\n",
              "      <td>1313.136364</td>\n",
              "      <td>505.934524</td>\n",
              "      <td>872.0</td>\n",
              "      <td>988.5</td>\n",
              "      <td>1140.0</td>\n",
              "      <td>1452.0</td>\n",
              "      <td>2782.0</td>\n",
              "    </tr>\n",
              "    <tr>\n",
              "      <th>3</th>\n",
              "      <td>3.0</td>\n",
              "      <td>5917.666667</td>\n",
              "      <td>1805.062418</td>\n",
              "      <td>4642.0</td>\n",
              "      <td>4885.0</td>\n",
              "      <td>5128.0</td>\n",
              "      <td>6555.5</td>\n",
              "      <td>7983.0</td>\n",
              "    </tr>\n",
              "  </tbody>\n",
              "</table>\n",
              "</div>"
            ],
            "text/plain": [
              "                   count         mean          std  ...     50%     75%     max\n",
              "FrequencyCluster                                    ...                        \n",
              "0                 3496.0    49.525744    44.954212  ...    33.0    73.0   190.0\n",
              "1                  429.0   331.221445   133.856510  ...   287.0   399.0   803.0\n",
              "2                   22.0  1313.136364   505.934524  ...  1140.0  1452.0  2782.0\n",
              "3                    3.0  5917.666667  1805.062418  ...  5128.0  6555.5  7983.0\n",
              "\n",
              "[4 rows x 8 columns]"
            ]
          },
          "metadata": {},
          "execution_count": 103
        }
      ]
    },
    {
      "cell_type": "markdown",
      "metadata": {
        "id": "fzzCVpF2rytO"
      },
      "source": [
        "As the same notation as recency clusters, high frequency number indicates better customers."
      ],
      "id": "fzzCVpF2rytO"
    },
    {
      "cell_type": "markdown",
      "metadata": {
        "id": "BUs0RyOgrytO"
      },
      "source": [
        "## Revenue"
      ],
      "id": "BUs0RyOgrytO"
    },
    {
      "cell_type": "code",
      "metadata": {
        "id": "XkBmvWfLrytP",
        "colab": {
          "base_uri": "https://localhost:8080/",
          "height": 206
        },
        "outputId": "dbab323f-5497-4c68-fa89-f8ad2f657774"
      },
      "source": [
        "# Dataframe to show revenue by each CustomerID\n",
        "revenue = df_plots.groupby('CustomerID')['Revenue'].sum().reset_index()\n",
        "revenue.head()"
      ],
      "id": "XkBmvWfLrytP",
      "execution_count": null,
      "outputs": [
        {
          "output_type": "execute_result",
          "data": {
            "text/html": [
              "<div>\n",
              "<style scoped>\n",
              "    .dataframe tbody tr th:only-of-type {\n",
              "        vertical-align: middle;\n",
              "    }\n",
              "\n",
              "    .dataframe tbody tr th {\n",
              "        vertical-align: top;\n",
              "    }\n",
              "\n",
              "    .dataframe thead th {\n",
              "        text-align: right;\n",
              "    }\n",
              "</style>\n",
              "<table border=\"1\" class=\"dataframe\">\n",
              "  <thead>\n",
              "    <tr style=\"text-align: right;\">\n",
              "      <th></th>\n",
              "      <th>CustomerID</th>\n",
              "      <th>Revenue</th>\n",
              "    </tr>\n",
              "  </thead>\n",
              "  <tbody>\n",
              "    <tr>\n",
              "      <th>0</th>\n",
              "      <td>12346.0</td>\n",
              "      <td>0.00</td>\n",
              "    </tr>\n",
              "    <tr>\n",
              "      <th>1</th>\n",
              "      <td>12747.0</td>\n",
              "      <td>4196.01</td>\n",
              "    </tr>\n",
              "    <tr>\n",
              "      <th>2</th>\n",
              "      <td>12748.0</td>\n",
              "      <td>29072.10</td>\n",
              "    </tr>\n",
              "    <tr>\n",
              "      <th>3</th>\n",
              "      <td>12749.0</td>\n",
              "      <td>3868.20</td>\n",
              "    </tr>\n",
              "    <tr>\n",
              "      <th>4</th>\n",
              "      <td>12820.0</td>\n",
              "      <td>942.34</td>\n",
              "    </tr>\n",
              "  </tbody>\n",
              "</table>\n",
              "</div>"
            ],
            "text/plain": [
              "   CustomerID   Revenue\n",
              "0     12346.0      0.00\n",
              "1     12747.0   4196.01\n",
              "2     12748.0  29072.10\n",
              "3     12749.0   3868.20\n",
              "4     12820.0    942.34"
            ]
          },
          "metadata": {},
          "execution_count": 106
        }
      ]
    },
    {
      "cell_type": "code",
      "metadata": {
        "colab": {
          "base_uri": "https://localhost:8080/",
          "height": 357
        },
        "id": "20dB_nQZ7KvW",
        "outputId": "80f9de38-be47-4fce-b7e2-20957a738671"
      },
      "source": [
        "plt.figure(figsize = (12,5))\n",
        "sns.histplot(revenue['Revenue'])\n",
        "plt.xlim(-1000,6000)"
      ],
      "id": "20dB_nQZ7KvW",
      "execution_count": null,
      "outputs": [
        {
          "output_type": "execute_result",
          "data": {
            "text/plain": [
              "(-1000.0, 6000.0)"
            ]
          },
          "metadata": {},
          "execution_count": 110
        },
        {
          "output_type": "display_data",
          "data": {
            "image/png": "[encoded data removed]",
            "text/plain": [
              "<Figure size 864x360 with 1 Axes>"
            ]
          },
          "metadata": {}
        }
      ]
    },
    {
      "cell_type": "code",
      "metadata": {
        "id": "OYNxOfr2FDOe"
      },
      "source": [
        "# Apply Kmeans\n",
        "X = revenue[['Revenue']]\n",
        "kmeans = KMeans(n_clusters=4)\n",
        "kmeans.fit(X)\n",
        "revenue['RevenueCluster'] = kmeans.predict(X)"
      ],
      "id": "OYNxOfr2FDOe",
      "execution_count": null,
      "outputs": []
    },
    {
      "cell_type": "code",
      "metadata": {
        "id": "kl97S1nFFEuo",
        "colab": {
          "base_uri": "https://localhost:8080/",
          "height": 423
        },
        "outputId": "6baba862-65fd-4428-ef51-fed748cff567"
      },
      "source": [
        "#order the cluster numbers\n",
        "revenue = order_cluster('RevenueCluster', 'Revenue',revenue,True)\n",
        "revenue"
      ],
      "id": "kl97S1nFFEuo",
      "execution_count": null,
      "outputs": [
        {
          "output_type": "execute_result",
          "data": {
            "text/html": [
              "<div>\n",
              "<style scoped>\n",
              "    .dataframe tbody tr th:only-of-type {\n",
              "        vertical-align: middle;\n",
              "    }\n",
              "\n",
              "    .dataframe tbody tr th {\n",
              "        vertical-align: top;\n",
              "    }\n",
              "\n",
              "    .dataframe thead th {\n",
              "        text-align: right;\n",
              "    }\n",
              "</style>\n",
              "<table border=\"1\" class=\"dataframe\">\n",
              "  <thead>\n",
              "    <tr style=\"text-align: right;\">\n",
              "      <th></th>\n",
              "      <th>CustomerID</th>\n",
              "      <th>Revenue</th>\n",
              "      <th>RevenueCluster</th>\n",
              "    </tr>\n",
              "  </thead>\n",
              "  <tbody>\n",
              "    <tr>\n",
              "      <th>0</th>\n",
              "      <td>12346.0</td>\n",
              "      <td>0.00</td>\n",
              "      <td>0</td>\n",
              "    </tr>\n",
              "    <tr>\n",
              "      <th>1</th>\n",
              "      <td>12747.0</td>\n",
              "      <td>4196.01</td>\n",
              "      <td>0</td>\n",
              "    </tr>\n",
              "    <tr>\n",
              "      <th>2</th>\n",
              "      <td>12749.0</td>\n",
              "      <td>3868.20</td>\n",
              "      <td>0</td>\n",
              "    </tr>\n",
              "    <tr>\n",
              "      <th>3</th>\n",
              "      <td>12820.0</td>\n",
              "      <td>942.34</td>\n",
              "      <td>0</td>\n",
              "    </tr>\n",
              "    <tr>\n",
              "      <th>4</th>\n",
              "      <td>12821.0</td>\n",
              "      <td>92.72</td>\n",
              "      <td>0</td>\n",
              "    </tr>\n",
              "    <tr>\n",
              "      <th>...</th>\n",
              "      <td>...</td>\n",
              "      <td>...</td>\n",
              "      <td>...</td>\n",
              "    </tr>\n",
              "    <tr>\n",
              "      <th>3945</th>\n",
              "      <td>18225.0</td>\n",
              "      <td>5361.02</td>\n",
              "      <td>1</td>\n",
              "    </tr>\n",
              "    <tr>\n",
              "      <th>3946</th>\n",
              "      <td>18226.0</td>\n",
              "      <td>5192.10</td>\n",
              "      <td>1</td>\n",
              "    </tr>\n",
              "    <tr>\n",
              "      <th>3947</th>\n",
              "      <td>18229.0</td>\n",
              "      <td>7276.90</td>\n",
              "      <td>1</td>\n",
              "    </tr>\n",
              "    <tr>\n",
              "      <th>3948</th>\n",
              "      <td>17450.0</td>\n",
              "      <td>187482.17</td>\n",
              "      <td>3</td>\n",
              "    </tr>\n",
              "    <tr>\n",
              "      <th>3949</th>\n",
              "      <td>18102.0</td>\n",
              "      <td>256438.49</td>\n",
              "      <td>3</td>\n",
              "    </tr>\n",
              "  </tbody>\n",
              "</table>\n",
              "<p>3950 rows × 3 columns</p>\n",
              "</div>"
            ],
            "text/plain": [
              "      CustomerID    Revenue  RevenueCluster\n",
              "0        12346.0       0.00               0\n",
              "1        12747.0    4196.01               0\n",
              "2        12749.0    3868.20               0\n",
              "3        12820.0     942.34               0\n",
              "4        12821.0      92.72               0\n",
              "...          ...        ...             ...\n",
              "3945     18225.0    5361.02               1\n",
              "3946     18226.0    5192.10               1\n",
              "3947     18229.0    7276.90               1\n",
              "3948     17450.0  187482.17               3\n",
              "3949     18102.0  256438.49               3\n",
              "\n",
              "[3950 rows x 3 columns]"
            ]
          },
          "metadata": {},
          "execution_count": 114
        }
      ]
    },
    {
      "cell_type": "code",
      "metadata": {
        "colab": {
          "base_uri": "https://localhost:8080/",
          "height": 206
        },
        "id": "ibzeHTCu73zJ",
        "outputId": "4a4c6e7a-9279-4d6a-a4c1-e2c96f8a6587"
      },
      "source": [
        "#show details of the dataframe\n",
        "revenue.groupby('RevenueCluster').Revenue.describe()"
      ],
      "id": "ibzeHTCu73zJ",
      "execution_count": null,
      "outputs": [
        {
          "output_type": "execute_result",
          "data": {
            "text/html": [
              "<div>\n",
              "<style scoped>\n",
              "    .dataframe tbody tr th:only-of-type {\n",
              "        vertical-align: middle;\n",
              "    }\n",
              "\n",
              "    .dataframe tbody tr th {\n",
              "        vertical-align: top;\n",
              "    }\n",
              "\n",
              "    .dataframe thead th {\n",
              "        text-align: right;\n",
              "    }\n",
              "</style>\n",
              "<table border=\"1\" class=\"dataframe\">\n",
              "  <thead>\n",
              "    <tr style=\"text-align: right;\">\n",
              "      <th></th>\n",
              "      <th>count</th>\n",
              "      <th>mean</th>\n",
              "      <th>std</th>\n",
              "      <th>min</th>\n",
              "      <th>25%</th>\n",
              "      <th>50%</th>\n",
              "      <th>75%</th>\n",
              "      <th>max</th>\n",
              "    </tr>\n",
              "    <tr>\n",
              "      <th>RevenueCluster</th>\n",
              "      <th></th>\n",
              "      <th></th>\n",
              "      <th></th>\n",
              "      <th></th>\n",
              "      <th></th>\n",
              "      <th></th>\n",
              "      <th></th>\n",
              "      <th></th>\n",
              "    </tr>\n",
              "  </thead>\n",
              "  <tbody>\n",
              "    <tr>\n",
              "      <th>0</th>\n",
              "      <td>3687.0</td>\n",
              "      <td>907.254414</td>\n",
              "      <td>921.910820</td>\n",
              "      <td>-4287.63</td>\n",
              "      <td>263.115</td>\n",
              "      <td>572.56</td>\n",
              "      <td>1258.220</td>\n",
              "      <td>4314.72</td>\n",
              "    </tr>\n",
              "    <tr>\n",
              "      <th>1</th>\n",
              "      <td>234.0</td>\n",
              "      <td>7760.699530</td>\n",
              "      <td>3637.173671</td>\n",
              "      <td>4330.67</td>\n",
              "      <td>5161.485</td>\n",
              "      <td>6549.38</td>\n",
              "      <td>9142.305</td>\n",
              "      <td>21535.90</td>\n",
              "    </tr>\n",
              "    <tr>\n",
              "      <th>2</th>\n",
              "      <td>27.0</td>\n",
              "      <td>43070.445185</td>\n",
              "      <td>15939.249588</td>\n",
              "      <td>25748.35</td>\n",
              "      <td>28865.490</td>\n",
              "      <td>36351.42</td>\n",
              "      <td>53489.790</td>\n",
              "      <td>88125.38</td>\n",
              "    </tr>\n",
              "    <tr>\n",
              "      <th>3</th>\n",
              "      <td>2.0</td>\n",
              "      <td>221960.330000</td>\n",
              "      <td>48759.481478</td>\n",
              "      <td>187482.17</td>\n",
              "      <td>204721.250</td>\n",
              "      <td>221960.33</td>\n",
              "      <td>239199.410</td>\n",
              "      <td>256438.49</td>\n",
              "    </tr>\n",
              "  </tbody>\n",
              "</table>\n",
              "</div>"
            ],
            "text/plain": [
              "                 count           mean  ...         75%        max\n",
              "RevenueCluster                         ...                       \n",
              "0               3687.0     907.254414  ...    1258.220    4314.72\n",
              "1                234.0    7760.699530  ...    9142.305   21535.90\n",
              "2                 27.0   43070.445185  ...   53489.790   88125.38\n",
              "3                  2.0  221960.330000  ...  239199.410  256438.49\n",
              "\n",
              "[4 rows x 8 columns]"
            ]
          },
          "metadata": {},
          "execution_count": 115
        }
      ]
    },
    {
      "cell_type": "markdown",
      "metadata": {
        "id": "tOZ4fowTrytQ"
      },
      "source": [
        "# 7 - Calculate RFM score for each customer"
      ],
      "id": "tOZ4fowTrytQ"
    },
    {
      "cell_type": "markdown",
      "metadata": {
        "id": "YeL2i7mKFdyU"
      },
      "source": [
        "Merge recency, frequency and revenue together using pandas"
      ],
      "id": "YeL2i7mKFdyU"
    },
    {
      "cell_type": "code",
      "metadata": {
        "colab": {
          "base_uri": "https://localhost:8080/",
          "height": 112
        },
        "id": "u91jbfF38OIQ",
        "outputId": "54df9442-c878-46dc-9587-b2e2c493f102"
      },
      "source": [
        "recency.head(2)"
      ],
      "id": "u91jbfF38OIQ",
      "execution_count": null,
      "outputs": [
        {
          "output_type": "execute_result",
          "data": {
            "text/html": [
              "<div>\n",
              "<style scoped>\n",
              "    .dataframe tbody tr th:only-of-type {\n",
              "        vertical-align: middle;\n",
              "    }\n",
              "\n",
              "    .dataframe tbody tr th {\n",
              "        vertical-align: top;\n",
              "    }\n",
              "\n",
              "    .dataframe thead th {\n",
              "        text-align: right;\n",
              "    }\n",
              "</style>\n",
              "<table border=\"1\" class=\"dataframe\">\n",
              "  <thead>\n",
              "    <tr style=\"text-align: right;\">\n",
              "      <th></th>\n",
              "      <th>CustomerID</th>\n",
              "      <th>Recency</th>\n",
              "      <th>RecencyCluster</th>\n",
              "    </tr>\n",
              "  </thead>\n",
              "  <tbody>\n",
              "    <tr>\n",
              "      <th>0</th>\n",
              "      <td>12346.0</td>\n",
              "      <td>325</td>\n",
              "      <td>0</td>\n",
              "    </tr>\n",
              "    <tr>\n",
              "      <th>1</th>\n",
              "      <td>12829.0</td>\n",
              "      <td>321</td>\n",
              "      <td>0</td>\n",
              "    </tr>\n",
              "  </tbody>\n",
              "</table>\n",
              "</div>"
            ],
            "text/plain": [
              "   CustomerID  Recency  RecencyCluster\n",
              "0     12346.0      325               0\n",
              "1     12829.0      321               0"
            ]
          },
          "metadata": {},
          "execution_count": 116
        }
      ]
    },
    {
      "cell_type": "code",
      "metadata": {
        "colab": {
          "base_uri": "https://localhost:8080/",
          "height": 112
        },
        "id": "ns7ngF1P8RDv",
        "outputId": "492e8f35-7b69-46f7-f6a3-4817cab007f6"
      },
      "source": [
        "frequency.head(2)"
      ],
      "id": "ns7ngF1P8RDv",
      "execution_count": null,
      "outputs": [
        {
          "output_type": "execute_result",
          "data": {
            "text/html": [
              "<div>\n",
              "<style scoped>\n",
              "    .dataframe tbody tr th:only-of-type {\n",
              "        vertical-align: middle;\n",
              "    }\n",
              "\n",
              "    .dataframe tbody tr th {\n",
              "        vertical-align: top;\n",
              "    }\n",
              "\n",
              "    .dataframe thead th {\n",
              "        text-align: right;\n",
              "    }\n",
              "</style>\n",
              "<table border=\"1\" class=\"dataframe\">\n",
              "  <thead>\n",
              "    <tr style=\"text-align: right;\">\n",
              "      <th></th>\n",
              "      <th>CustomerID</th>\n",
              "      <th>Frequency</th>\n",
              "      <th>FrequencyCluster</th>\n",
              "    </tr>\n",
              "  </thead>\n",
              "  <tbody>\n",
              "    <tr>\n",
              "      <th>0</th>\n",
              "      <td>12346.0</td>\n",
              "      <td>2</td>\n",
              "      <td>0</td>\n",
              "    </tr>\n",
              "    <tr>\n",
              "      <th>1</th>\n",
              "      <td>12747.0</td>\n",
              "      <td>103</td>\n",
              "      <td>0</td>\n",
              "    </tr>\n",
              "  </tbody>\n",
              "</table>\n",
              "</div>"
            ],
            "text/plain": [
              "   CustomerID  Frequency  FrequencyCluster\n",
              "0     12346.0          2                 0\n",
              "1     12747.0        103                 0"
            ]
          },
          "metadata": {},
          "execution_count": 117
        }
      ]
    },
    {
      "cell_type": "code",
      "metadata": {
        "colab": {
          "base_uri": "https://localhost:8080/",
          "height": 112
        },
        "id": "Kt-R6pRV8TV7",
        "outputId": "f3b7d7c6-6b83-468e-8e9c-bf53a92c3c83"
      },
      "source": [
        "revenue.head(2)"
      ],
      "id": "Kt-R6pRV8TV7",
      "execution_count": null,
      "outputs": [
        {
          "output_type": "execute_result",
          "data": {
            "text/html": [
              "<div>\n",
              "<style scoped>\n",
              "    .dataframe tbody tr th:only-of-type {\n",
              "        vertical-align: middle;\n",
              "    }\n",
              "\n",
              "    .dataframe tbody tr th {\n",
              "        vertical-align: top;\n",
              "    }\n",
              "\n",
              "    .dataframe thead th {\n",
              "        text-align: right;\n",
              "    }\n",
              "</style>\n",
              "<table border=\"1\" class=\"dataframe\">\n",
              "  <thead>\n",
              "    <tr style=\"text-align: right;\">\n",
              "      <th></th>\n",
              "      <th>CustomerID</th>\n",
              "      <th>Revenue</th>\n",
              "      <th>RevenueCluster</th>\n",
              "    </tr>\n",
              "  </thead>\n",
              "  <tbody>\n",
              "    <tr>\n",
              "      <th>0</th>\n",
              "      <td>12346.0</td>\n",
              "      <td>0.00</td>\n",
              "      <td>0</td>\n",
              "    </tr>\n",
              "    <tr>\n",
              "      <th>1</th>\n",
              "      <td>12747.0</td>\n",
              "      <td>4196.01</td>\n",
              "      <td>0</td>\n",
              "    </tr>\n",
              "  </tbody>\n",
              "</table>\n",
              "</div>"
            ],
            "text/plain": [
              "   CustomerID  Revenue  RevenueCluster\n",
              "0     12346.0     0.00               0\n",
              "1     12747.0  4196.01               0"
            ]
          },
          "metadata": {},
          "execution_count": 118
        }
      ]
    },
    {
      "cell_type": "code",
      "metadata": {
        "id": "hmu_WXwlrytQ",
        "colab": {
          "base_uri": "https://localhost:8080/",
          "height": 423
        },
        "outputId": "b15e5820-7e81-43ec-952f-eb2308320a92"
      },
      "source": [
        "final_rfm = recency.merge(frequency, on = 'CustomerID').merge(revenue, on = 'CustomerID')\n",
        "final_rfm "
      ],
      "id": "hmu_WXwlrytQ",
      "execution_count": null,
      "outputs": [
        {
          "output_type": "execute_result",
          "data": {
            "text/html": [
              "<div>\n",
              "<style scoped>\n",
              "    .dataframe tbody tr th:only-of-type {\n",
              "        vertical-align: middle;\n",
              "    }\n",
              "\n",
              "    .dataframe tbody tr th {\n",
              "        vertical-align: top;\n",
              "    }\n",
              "\n",
              "    .dataframe thead th {\n",
              "        text-align: right;\n",
              "    }\n",
              "</style>\n",
              "<table border=\"1\" class=\"dataframe\">\n",
              "  <thead>\n",
              "    <tr style=\"text-align: right;\">\n",
              "      <th></th>\n",
              "      <th>CustomerID</th>\n",
              "      <th>Recency</th>\n",
              "      <th>RecencyCluster</th>\n",
              "      <th>Frequency</th>\n",
              "      <th>FrequencyCluster</th>\n",
              "      <th>Revenue</th>\n",
              "      <th>RevenueCluster</th>\n",
              "    </tr>\n",
              "  </thead>\n",
              "  <tbody>\n",
              "    <tr>\n",
              "      <th>0</th>\n",
              "      <td>12346.0</td>\n",
              "      <td>325</td>\n",
              "      <td>0</td>\n",
              "      <td>2</td>\n",
              "      <td>0</td>\n",
              "      <td>0.00</td>\n",
              "      <td>0</td>\n",
              "    </tr>\n",
              "    <tr>\n",
              "      <th>1</th>\n",
              "      <td>12829.0</td>\n",
              "      <td>321</td>\n",
              "      <td>0</td>\n",
              "      <td>12</td>\n",
              "      <td>0</td>\n",
              "      <td>253.05</td>\n",
              "      <td>0</td>\n",
              "    </tr>\n",
              "    <tr>\n",
              "      <th>2</th>\n",
              "      <td>12831.0</td>\n",
              "      <td>261</td>\n",
              "      <td>0</td>\n",
              "      <td>9</td>\n",
              "      <td>0</td>\n",
              "      <td>215.05</td>\n",
              "      <td>0</td>\n",
              "    </tr>\n",
              "    <tr>\n",
              "      <th>3</th>\n",
              "      <td>12834.0</td>\n",
              "      <td>282</td>\n",
              "      <td>0</td>\n",
              "      <td>18</td>\n",
              "      <td>0</td>\n",
              "      <td>312.38</td>\n",
              "      <td>0</td>\n",
              "    </tr>\n",
              "    <tr>\n",
              "      <th>4</th>\n",
              "      <td>12845.0</td>\n",
              "      <td>266</td>\n",
              "      <td>0</td>\n",
              "      <td>27</td>\n",
              "      <td>0</td>\n",
              "      <td>354.09</td>\n",
              "      <td>0</td>\n",
              "    </tr>\n",
              "    <tr>\n",
              "      <th>...</th>\n",
              "      <td>...</td>\n",
              "      <td>...</td>\n",
              "      <td>...</td>\n",
              "      <td>...</td>\n",
              "      <td>...</td>\n",
              "      <td>...</td>\n",
              "      <td>...</td>\n",
              "    </tr>\n",
              "    <tr>\n",
              "      <th>3945</th>\n",
              "      <td>18252.0</td>\n",
              "      <td>50</td>\n",
              "      <td>2</td>\n",
              "      <td>98</td>\n",
              "      <td>0</td>\n",
              "      <td>526.67</td>\n",
              "      <td>0</td>\n",
              "    </tr>\n",
              "    <tr>\n",
              "      <th>3946</th>\n",
              "      <td>18255.0</td>\n",
              "      <td>88</td>\n",
              "      <td>2</td>\n",
              "      <td>6</td>\n",
              "      <td>0</td>\n",
              "      <td>103.30</td>\n",
              "      <td>0</td>\n",
              "    </tr>\n",
              "    <tr>\n",
              "      <th>3947</th>\n",
              "      <td>18265.0</td>\n",
              "      <td>71</td>\n",
              "      <td>2</td>\n",
              "      <td>46</td>\n",
              "      <td>0</td>\n",
              "      <td>801.51</td>\n",
              "      <td>0</td>\n",
              "    </tr>\n",
              "    <tr>\n",
              "      <th>3948</th>\n",
              "      <td>18277.0</td>\n",
              "      <td>57</td>\n",
              "      <td>2</td>\n",
              "      <td>9</td>\n",
              "      <td>0</td>\n",
              "      <td>97.63</td>\n",
              "      <td>0</td>\n",
              "    </tr>\n",
              "    <tr>\n",
              "      <th>3949</th>\n",
              "      <td>18278.0</td>\n",
              "      <td>73</td>\n",
              "      <td>2</td>\n",
              "      <td>9</td>\n",
              "      <td>0</td>\n",
              "      <td>173.90</td>\n",
              "      <td>0</td>\n",
              "    </tr>\n",
              "  </tbody>\n",
              "</table>\n",
              "<p>3950 rows × 7 columns</p>\n",
              "</div>"
            ],
            "text/plain": [
              "      CustomerID  Recency  ...  Revenue  RevenueCluster\n",
              "0        12346.0      325  ...     0.00               0\n",
              "1        12829.0      321  ...   253.05               0\n",
              "2        12831.0      261  ...   215.05               0\n",
              "3        12834.0      282  ...   312.38               0\n",
              "4        12845.0      266  ...   354.09               0\n",
              "...          ...      ...  ...      ...             ...\n",
              "3945     18252.0       50  ...   526.67               0\n",
              "3946     18255.0       88  ...   103.30               0\n",
              "3947     18265.0       71  ...   801.51               0\n",
              "3948     18277.0       57  ...    97.63               0\n",
              "3949     18278.0       73  ...   173.90               0\n",
              "\n",
              "[3950 rows x 7 columns]"
            ]
          },
          "metadata": {},
          "execution_count": 121
        }
      ]
    },
    {
      "cell_type": "markdown",
      "metadata": {
        "id": "ZjvZ77WVIKWq"
      },
      "source": [
        "Here we value Revenue more than Recency and Frequency, so we give it some weight.\n",
        "\n",
        "This depends of the bussiness goal of the company."
      ],
      "id": "ZjvZ77WVIKWq"
    },
    {
      "cell_type": "code",
      "metadata": {
        "colab": {
          "base_uri": "https://localhost:8080/",
          "height": 206
        },
        "id": "xCku4cB2-v0_",
        "outputId": "455e8b9b-3d46-4778-dc76-9d3b693e097c"
      },
      "source": [
        "final_rfm['RFM_score'] = final_rfm.RecencyCluster + final_rfm.FrequencyCluster + final_rfm.RevenueCluster*2\n",
        "final_rfm.head()"
      ],
      "id": "xCku4cB2-v0_",
      "execution_count": null,
      "outputs": [
        {
          "output_type": "execute_result",
          "data": {
            "text/html": [
              "<div>\n",
              "<style scoped>\n",
              "    .dataframe tbody tr th:only-of-type {\n",
              "        vertical-align: middle;\n",
              "    }\n",
              "\n",
              "    .dataframe tbody tr th {\n",
              "        vertical-align: top;\n",
              "    }\n",
              "\n",
              "    .dataframe thead th {\n",
              "        text-align: right;\n",
              "    }\n",
              "</style>\n",
              "<table border=\"1\" class=\"dataframe\">\n",
              "  <thead>\n",
              "    <tr style=\"text-align: right;\">\n",
              "      <th></th>\n",
              "      <th>CustomerID</th>\n",
              "      <th>Recency</th>\n",
              "      <th>RecencyCluster</th>\n",
              "      <th>Frequency</th>\n",
              "      <th>FrequencyCluster</th>\n",
              "      <th>Revenue</th>\n",
              "      <th>RevenueCluster</th>\n",
              "      <th>RFM_score</th>\n",
              "    </tr>\n",
              "  </thead>\n",
              "  <tbody>\n",
              "    <tr>\n",
              "      <th>0</th>\n",
              "      <td>12346.0</td>\n",
              "      <td>325</td>\n",
              "      <td>0</td>\n",
              "      <td>2</td>\n",
              "      <td>0</td>\n",
              "      <td>0.00</td>\n",
              "      <td>0</td>\n",
              "      <td>0</td>\n",
              "    </tr>\n",
              "    <tr>\n",
              "      <th>1</th>\n",
              "      <td>12829.0</td>\n",
              "      <td>321</td>\n",
              "      <td>0</td>\n",
              "      <td>12</td>\n",
              "      <td>0</td>\n",
              "      <td>253.05</td>\n",
              "      <td>0</td>\n",
              "      <td>0</td>\n",
              "    </tr>\n",
              "    <tr>\n",
              "      <th>2</th>\n",
              "      <td>12831.0</td>\n",
              "      <td>261</td>\n",
              "      <td>0</td>\n",
              "      <td>9</td>\n",
              "      <td>0</td>\n",
              "      <td>215.05</td>\n",
              "      <td>0</td>\n",
              "      <td>0</td>\n",
              "    </tr>\n",
              "    <tr>\n",
              "      <th>3</th>\n",
              "      <td>12834.0</td>\n",
              "      <td>282</td>\n",
              "      <td>0</td>\n",
              "      <td>18</td>\n",
              "      <td>0</td>\n",
              "      <td>312.38</td>\n",
              "      <td>0</td>\n",
              "      <td>0</td>\n",
              "    </tr>\n",
              "    <tr>\n",
              "      <th>4</th>\n",
              "      <td>12845.0</td>\n",
              "      <td>266</td>\n",
              "      <td>0</td>\n",
              "      <td>27</td>\n",
              "      <td>0</td>\n",
              "      <td>354.09</td>\n",
              "      <td>0</td>\n",
              "      <td>0</td>\n",
              "    </tr>\n",
              "  </tbody>\n",
              "</table>\n",
              "</div>"
            ],
            "text/plain": [
              "   CustomerID  Recency  RecencyCluster  ...  Revenue  RevenueCluster  RFM_score\n",
              "0     12346.0      325               0  ...     0.00               0          0\n",
              "1     12829.0      321               0  ...   253.05               0          0\n",
              "2     12831.0      261               0  ...   215.05               0          0\n",
              "3     12834.0      282               0  ...   312.38               0          0\n",
              "4     12845.0      266               0  ...   354.09               0          0\n",
              "\n",
              "[5 rows x 8 columns]"
            ]
          },
          "metadata": {},
          "execution_count": 124
        }
      ]
    },
    {
      "cell_type": "code",
      "metadata": {
        "colab": {
          "base_uri": "https://localhost:8080/",
          "height": 425
        },
        "id": "Zvp40IIj--r0",
        "outputId": "b147ac90-d21b-4025-e98e-d4dd2a271892"
      },
      "source": [
        "final_rfm.groupby('RFM_score')[['Recency','Frequency','Revenue']].mean()"
      ],
      "id": "Zvp40IIj--r0",
      "execution_count": null,
      "outputs": [
        {
          "output_type": "execute_result",
          "data": {
            "text/html": [
              "<div>\n",
              "<style scoped>\n",
              "    .dataframe tbody tr th:only-of-type {\n",
              "        vertical-align: middle;\n",
              "    }\n",
              "\n",
              "    .dataframe tbody tr th {\n",
              "        vertical-align: top;\n",
              "    }\n",
              "\n",
              "    .dataframe thead th {\n",
              "        text-align: right;\n",
              "    }\n",
              "</style>\n",
              "<table border=\"1\" class=\"dataframe\">\n",
              "  <thead>\n",
              "    <tr style=\"text-align: right;\">\n",
              "      <th></th>\n",
              "      <th>Recency</th>\n",
              "      <th>Frequency</th>\n",
              "      <th>Revenue</th>\n",
              "    </tr>\n",
              "    <tr>\n",
              "      <th>RFM_score</th>\n",
              "      <th></th>\n",
              "      <th></th>\n",
              "      <th></th>\n",
              "    </tr>\n",
              "  </thead>\n",
              "  <tbody>\n",
              "    <tr>\n",
              "      <th>0</th>\n",
              "      <td>304.584388</td>\n",
              "      <td>21.995781</td>\n",
              "      <td>303.339705</td>\n",
              "    </tr>\n",
              "    <tr>\n",
              "      <th>1</th>\n",
              "      <td>185.094643</td>\n",
              "      <td>32.310714</td>\n",
              "      <td>478.070770</td>\n",
              "    </tr>\n",
              "    <tr>\n",
              "      <th>2</th>\n",
              "      <td>78.802832</td>\n",
              "      <td>46.834423</td>\n",
              "      <td>840.153336</td>\n",
              "    </tr>\n",
              "    <tr>\n",
              "      <th>3</th>\n",
              "      <td>20.861886</td>\n",
              "      <td>68.438911</td>\n",
              "      <td>1079.151608</td>\n",
              "    </tr>\n",
              "    <tr>\n",
              "      <th>4</th>\n",
              "      <td>16.495868</td>\n",
              "      <td>302.942149</td>\n",
              "      <td>2666.011529</td>\n",
              "    </tr>\n",
              "    <tr>\n",
              "      <th>5</th>\n",
              "      <td>17.238806</td>\n",
              "      <td>154.910448</td>\n",
              "      <td>7469.424776</td>\n",
              "    </tr>\n",
              "    <tr>\n",
              "      <th>6</th>\n",
              "      <td>9.841727</td>\n",
              "      <td>377.985612</td>\n",
              "      <td>7819.577122</td>\n",
              "    </tr>\n",
              "    <tr>\n",
              "      <th>7</th>\n",
              "      <td>7.318182</td>\n",
              "      <td>888.863636</td>\n",
              "      <td>17212.819545</td>\n",
              "    </tr>\n",
              "    <tr>\n",
              "      <th>8</th>\n",
              "      <td>8.083333</td>\n",
              "      <td>403.916667</td>\n",
              "      <td>41205.515833</td>\n",
              "    </tr>\n",
              "    <tr>\n",
              "      <th>9</th>\n",
              "      <td>1.200000</td>\n",
              "      <td>1625.000000</td>\n",
              "      <td>56751.504000</td>\n",
              "    </tr>\n",
              "    <tr>\n",
              "      <th>10</th>\n",
              "      <td>2.200000</td>\n",
              "      <td>3707.400000</td>\n",
              "      <td>114090.890000</td>\n",
              "    </tr>\n",
              "  </tbody>\n",
              "</table>\n",
              "</div>"
            ],
            "text/plain": [
              "              Recency    Frequency        Revenue\n",
              "RFM_score                                        \n",
              "0          304.584388    21.995781     303.339705\n",
              "1          185.094643    32.310714     478.070770\n",
              "2           78.802832    46.834423     840.153336\n",
              "3           20.861886    68.438911    1079.151608\n",
              "4           16.495868   302.942149    2666.011529\n",
              "5           17.238806   154.910448    7469.424776\n",
              "6            9.841727   377.985612    7819.577122\n",
              "7            7.318182   888.863636   17212.819545\n",
              "8            8.083333   403.916667   41205.515833\n",
              "9            1.200000  1625.000000   56751.504000\n",
              "10           2.200000  3707.400000  114090.890000"
            ]
          },
          "metadata": {},
          "execution_count": 125
        }
      ]
    },
    {
      "cell_type": "markdown",
      "metadata": {
        "id": "XdNWtXHPrytR"
      },
      "source": [
        "The scoring above clearly shows us that customers with score 10 is our best customers whereas 0 is the worst.\n",
        "\n",
        "To keep things simple, better we name these scores:\n",
        "- 0 to 2: Low Value\n",
        "- 3 to 5: Mid Value\n",
        "- 5+: High Value"
      ],
      "id": "XdNWtXHPrytR"
    },
    {
      "cell_type": "code",
      "metadata": {
        "id": "7WDXOca3rytR",
        "colab": {
          "base_uri": "https://localhost:8080/",
          "height": 206
        },
        "outputId": "030aa148-b7ae-4278-f267-d139e07c2876"
      },
      "source": [
        "final_rfm['Segmentation'] = 'Low'\n",
        "final_rfm.loc[final_rfm.RFM_score>2,'Segmentation']='Mid'\n",
        "final_rfm.loc[final_rfm.RFM_score>5,'Segmentation']='High'\n",
        "final_rfm.head()"
      ],
      "id": "7WDXOca3rytR",
      "execution_count": null,
      "outputs": [
        {
          "output_type": "execute_result",
          "data": {
            "text/html": [
              "<div>\n",
              "<style scoped>\n",
              "    .dataframe tbody tr th:only-of-type {\n",
              "        vertical-align: middle;\n",
              "    }\n",
              "\n",
              "    .dataframe tbody tr th {\n",
              "        vertical-align: top;\n",
              "    }\n",
              "\n",
              "    .dataframe thead th {\n",
              "        text-align: right;\n",
              "    }\n",
              "</style>\n",
              "<table border=\"1\" class=\"dataframe\">\n",
              "  <thead>\n",
              "    <tr style=\"text-align: right;\">\n",
              "      <th></th>\n",
              "      <th>CustomerID</th>\n",
              "      <th>Recency</th>\n",
              "      <th>RecencyCluster</th>\n",
              "      <th>Frequency</th>\n",
              "      <th>FrequencyCluster</th>\n",
              "      <th>Revenue</th>\n",
              "      <th>RevenueCluster</th>\n",
              "      <th>RFM_score</th>\n",
              "      <th>Segmentation</th>\n",
              "    </tr>\n",
              "  </thead>\n",
              "  <tbody>\n",
              "    <tr>\n",
              "      <th>0</th>\n",
              "      <td>12346.0</td>\n",
              "      <td>325</td>\n",
              "      <td>0</td>\n",
              "      <td>2</td>\n",
              "      <td>0</td>\n",
              "      <td>0.00</td>\n",
              "      <td>0</td>\n",
              "      <td>0</td>\n",
              "      <td>Low</td>\n",
              "    </tr>\n",
              "    <tr>\n",
              "      <th>1</th>\n",
              "      <td>12829.0</td>\n",
              "      <td>321</td>\n",
              "      <td>0</td>\n",
              "      <td>12</td>\n",
              "      <td>0</td>\n",
              "      <td>253.05</td>\n",
              "      <td>0</td>\n",
              "      <td>0</td>\n",
              "      <td>Low</td>\n",
              "    </tr>\n",
              "    <tr>\n",
              "      <th>2</th>\n",
              "      <td>12831.0</td>\n",
              "      <td>261</td>\n",
              "      <td>0</td>\n",
              "      <td>9</td>\n",
              "      <td>0</td>\n",
              "      <td>215.05</td>\n",
              "      <td>0</td>\n",
              "      <td>0</td>\n",
              "      <td>Low</td>\n",
              "    </tr>\n",
              "    <tr>\n",
              "      <th>3</th>\n",
              "      <td>12834.0</td>\n",
              "      <td>282</td>\n",
              "      <td>0</td>\n",
              "      <td>18</td>\n",
              "      <td>0</td>\n",
              "      <td>312.38</td>\n",
              "      <td>0</td>\n",
              "      <td>0</td>\n",
              "      <td>Low</td>\n",
              "    </tr>\n",
              "    <tr>\n",
              "      <th>4</th>\n",
              "      <td>12845.0</td>\n",
              "      <td>266</td>\n",
              "      <td>0</td>\n",
              "      <td>27</td>\n",
              "      <td>0</td>\n",
              "      <td>354.09</td>\n",
              "      <td>0</td>\n",
              "      <td>0</td>\n",
              "      <td>Low</td>\n",
              "    </tr>\n",
              "  </tbody>\n",
              "</table>\n",
              "</div>"
            ],
            "text/plain": [
              "   CustomerID  Recency  RecencyCluster  ...  RevenueCluster  RFM_score  Segmentation\n",
              "0     12346.0      325               0  ...               0          0           Low\n",
              "1     12829.0      321               0  ...               0          0           Low\n",
              "2     12831.0      261               0  ...               0          0           Low\n",
              "3     12834.0      282               0  ...               0          0           Low\n",
              "4     12845.0      266               0  ...               0          0           Low\n",
              "\n",
              "[5 rows x 9 columns]"
            ]
          },
          "metadata": {},
          "execution_count": 128
        }
      ]
    },
    {
      "cell_type": "code",
      "metadata": {
        "colab": {
          "base_uri": "https://localhost:8080/"
        },
        "id": "vs0Fbw0ZBo6K",
        "outputId": "91fe8d8e-6678-4c8d-bf1c-953b989a8ee4"
      },
      "source": [
        "final_rfm.Segmentation.value_counts()"
      ],
      "id": "vs0Fbw0ZBo6K",
      "execution_count": null,
      "outputs": [
        {
          "output_type": "execute_result",
          "data": {
            "text/plain": [
              "Low     1952\n",
              "Mid     1815\n",
              "High     183\n",
              "Name: Segmentation, dtype: int64"
            ]
          },
          "metadata": {},
          "execution_count": 129
        }
      ]
    },
    {
      "cell_type": "markdown",
      "metadata": {
        "id": "k-AFp54krytR"
      },
      "source": [
        "## Visualizing the clusters"
      ],
      "id": "k-AFp54krytR"
    },
    {
      "cell_type": "code",
      "metadata": {
        "colab": {
          "base_uri": "https://localhost:8080/",
          "height": 611
        },
        "id": "KDpiVMS0B9JG",
        "outputId": "e2ea7a27-0c9e-4431-a706-47b138a9688c"
      },
      "source": [
        "# clustering on Frequency vs Revenue\n",
        "plt.figure(figsize=(12,10))\n",
        "sns.scatterplot(data=final_rfm.query(\"Revenue < 50000 and Frequency < 2000\")\n",
        "                               , x=\"Frequency\", y=\"Revenue\", hue=\"Segmentation\");"
      ],
      "id": "KDpiVMS0B9JG",
      "execution_count": null,
      "outputs": [
        {
          "output_type": "display_data",
          "data": {
            "image/png": "[encoded data removed]",
            "text/plain": [
              "<Figure size 864x720 with 1 Axes>"
            ]
          },
          "metadata": {}
        }
      ]
    },
    {
      "cell_type": "code",
      "metadata": {
        "id": "bvL5mES3rytS",
        "colab": {
          "base_uri": "https://localhost:8080/",
          "height": 611
        },
        "outputId": "96c8236f-b343-48a3-9a04-baac473dd72b"
      },
      "source": [
        "# clustering on Recency vs Revenue\n",
        "plt.figure(figsize=(12,10))\n",
        "sns.scatterplot(data=final_rfm.query(\"Revenue < 50000 and Frequency < 2000\")\n",
        "                               , x=\"Recency\", y=\"Revenue\", hue=\"Segmentation\");"
      ],
      "id": "bvL5mES3rytS",
      "execution_count": null,
      "outputs": [
        {
          "output_type": "display_data",
          "data": {
            "image/png": "[encoded data removed]",
            "text/plain": [
              "<Figure size 864x720 with 1 Axes>"
            ]
          },
          "metadata": {
            "tags": []
          }
        }
      ]
    },
    {
      "cell_type": "code",
      "metadata": {
        "id": "lJCdvX29rytS",
        "colab": {
          "base_uri": "https://localhost:8080/",
          "height": 612
        },
        "outputId": "82308a9e-4b1c-45d6-a2ba-d11cf37a0d30"
      },
      "source": [
        "# clustering on Revenue\n",
        "plt.figure(figsize=(12,10))\n",
        "sns.scatterplot(data=final_rfm.query(\"Revenue < 50000 and Frequency < 2000\")\n",
        "                               , x=\"Recency\", y=\"Frequency\", hue=\"Segmentation\");"
      ],
      "id": "lJCdvX29rytS",
      "execution_count": null,
      "outputs": [
        {
          "output_type": "display_data",
          "data": {
            "image/png": "[encoded data removed]",
            "text/plain": [
              "<Figure size 864x720 with 1 Axes>"
            ]
          },
          "metadata": {
            "tags": []
          }
        }
      ]
    },
    {
      "cell_type": "markdown",
      "metadata": {
        "id": "AdndHPHf9NXM"
      },
      "source": [
        "# 8 - Optional: Another way to cluster using Kmeans"
      ],
      "id": "AdndHPHf9NXM"
    },
    {
      "cell_type": "markdown",
      "metadata": {
        "id": "bnVb7o409kdU"
      },
      "source": [
        "Alternatively of calculating and picking RFM score, we can keep data intact and use K-Means on the hold data"
      ],
      "id": "bnVb7o409kdU"
    },
    {
      "cell_type": "code",
      "metadata": {
        "colab": {
          "base_uri": "https://localhost:8080/",
          "height": 454
        },
        "id": "NRSgTEiEDmyM",
        "outputId": "2eaf6c26-1185-4ed1-9558-e9832816074a"
      },
      "source": [
        "data_new =  final_rfm[['CustomerID','Recency','Frequency','Revenue']]\n",
        "data_new = data_new.set_index('CustomerID')\n",
        "data_new"
      ],
      "id": "NRSgTEiEDmyM",
      "execution_count": null,
      "outputs": [
        {
          "output_type": "execute_result",
          "data": {
            "text/html": [
              "<div>\n",
              "<style scoped>\n",
              "    .dataframe tbody tr th:only-of-type {\n",
              "        vertical-align: middle;\n",
              "    }\n",
              "\n",
              "    .dataframe tbody tr th {\n",
              "        vertical-align: top;\n",
              "    }\n",
              "\n",
              "    .dataframe thead th {\n",
              "        text-align: right;\n",
              "    }\n",
              "</style>\n",
              "<table border=\"1\" class=\"dataframe\">\n",
              "  <thead>\n",
              "    <tr style=\"text-align: right;\">\n",
              "      <th></th>\n",
              "      <th>Recency</th>\n",
              "      <th>Frequency</th>\n",
              "      <th>Revenue</th>\n",
              "    </tr>\n",
              "    <tr>\n",
              "      <th>CustomerID</th>\n",
              "      <th></th>\n",
              "      <th></th>\n",
              "      <th></th>\n",
              "    </tr>\n",
              "  </thead>\n",
              "  <tbody>\n",
              "    <tr>\n",
              "      <th>12346.0</th>\n",
              "      <td>325</td>\n",
              "      <td>2</td>\n",
              "      <td>0.00</td>\n",
              "    </tr>\n",
              "    <tr>\n",
              "      <th>12829.0</th>\n",
              "      <td>321</td>\n",
              "      <td>12</td>\n",
              "      <td>253.05</td>\n",
              "    </tr>\n",
              "    <tr>\n",
              "      <th>12831.0</th>\n",
              "      <td>261</td>\n",
              "      <td>9</td>\n",
              "      <td>215.05</td>\n",
              "    </tr>\n",
              "    <tr>\n",
              "      <th>12834.0</th>\n",
              "      <td>282</td>\n",
              "      <td>18</td>\n",
              "      <td>312.38</td>\n",
              "    </tr>\n",
              "    <tr>\n",
              "      <th>12845.0</th>\n",
              "      <td>266</td>\n",
              "      <td>27</td>\n",
              "      <td>354.09</td>\n",
              "    </tr>\n",
              "    <tr>\n",
              "      <th>...</th>\n",
              "      <td>...</td>\n",
              "      <td>...</td>\n",
              "      <td>...</td>\n",
              "    </tr>\n",
              "    <tr>\n",
              "      <th>18252.0</th>\n",
              "      <td>50</td>\n",
              "      <td>98</td>\n",
              "      <td>526.67</td>\n",
              "    </tr>\n",
              "    <tr>\n",
              "      <th>18255.0</th>\n",
              "      <td>88</td>\n",
              "      <td>6</td>\n",
              "      <td>103.30</td>\n",
              "    </tr>\n",
              "    <tr>\n",
              "      <th>18265.0</th>\n",
              "      <td>71</td>\n",
              "      <td>46</td>\n",
              "      <td>801.51</td>\n",
              "    </tr>\n",
              "    <tr>\n",
              "      <th>18277.0</th>\n",
              "      <td>57</td>\n",
              "      <td>9</td>\n",
              "      <td>97.63</td>\n",
              "    </tr>\n",
              "    <tr>\n",
              "      <th>18278.0</th>\n",
              "      <td>73</td>\n",
              "      <td>9</td>\n",
              "      <td>173.90</td>\n",
              "    </tr>\n",
              "  </tbody>\n",
              "</table>\n",
              "<p>3950 rows × 3 columns</p>\n",
              "</div>"
            ],
            "text/plain": [
              "            Recency  Frequency  Revenue\n",
              "CustomerID                             \n",
              "12346.0         325          2     0.00\n",
              "12829.0         321         12   253.05\n",
              "12831.0         261          9   215.05\n",
              "12834.0         282         18   312.38\n",
              "12845.0         266         27   354.09\n",
              "...             ...        ...      ...\n",
              "18252.0          50         98   526.67\n",
              "18255.0          88          6   103.30\n",
              "18265.0          71         46   801.51\n",
              "18277.0          57          9    97.63\n",
              "18278.0          73          9   173.90\n",
              "\n",
              "[3950 rows x 3 columns]"
            ]
          },
          "metadata": {},
          "execution_count": 134
        }
      ]
    },
    {
      "cell_type": "code",
      "metadata": {
        "id": "UcynGtuLIaZu",
        "colab": {
          "base_uri": "https://localhost:8080/",
          "height": 300
        },
        "outputId": "d3c9f66d-8c4a-4914-feda-3859ddfc95e8"
      },
      "source": [
        "data_new.describe()"
      ],
      "id": "UcynGtuLIaZu",
      "execution_count": null,
      "outputs": [
        {
          "output_type": "execute_result",
          "data": {
            "text/html": [
              "<div>\n",
              "<style scoped>\n",
              "    .dataframe tbody tr th:only-of-type {\n",
              "        vertical-align: middle;\n",
              "    }\n",
              "\n",
              "    .dataframe tbody tr th {\n",
              "        vertical-align: top;\n",
              "    }\n",
              "\n",
              "    .dataframe thead th {\n",
              "        text-align: right;\n",
              "    }\n",
              "</style>\n",
              "<table border=\"1\" class=\"dataframe\">\n",
              "  <thead>\n",
              "    <tr style=\"text-align: right;\">\n",
              "      <th></th>\n",
              "      <th>Recency</th>\n",
              "      <th>Frequency</th>\n",
              "      <th>Revenue</th>\n",
              "    </tr>\n",
              "  </thead>\n",
              "  <tbody>\n",
              "    <tr>\n",
              "      <th>count</th>\n",
              "      <td>3950.000000</td>\n",
              "      <td>3950.000000</td>\n",
              "      <td>3950.000000</td>\n",
              "    </tr>\n",
              "    <tr>\n",
              "      <th>mean</th>\n",
              "      <td>90.778481</td>\n",
              "      <td>91.614684</td>\n",
              "      <td>1713.385669</td>\n",
              "    </tr>\n",
              "    <tr>\n",
              "      <th>std</th>\n",
              "      <td>100.230349</td>\n",
              "      <td>220.557389</td>\n",
              "      <td>6548.608224</td>\n",
              "    </tr>\n",
              "    <tr>\n",
              "      <th>min</th>\n",
              "      <td>0.000000</td>\n",
              "      <td>1.000000</td>\n",
              "      <td>-4287.630000</td>\n",
              "    </tr>\n",
              "    <tr>\n",
              "      <th>25%</th>\n",
              "      <td>16.000000</td>\n",
              "      <td>17.000000</td>\n",
              "      <td>282.255000</td>\n",
              "    </tr>\n",
              "    <tr>\n",
              "      <th>50%</th>\n",
              "      <td>49.000000</td>\n",
              "      <td>41.000000</td>\n",
              "      <td>627.060000</td>\n",
              "    </tr>\n",
              "    <tr>\n",
              "      <th>75%</th>\n",
              "      <td>142.000000</td>\n",
              "      <td>101.000000</td>\n",
              "      <td>1521.782500</td>\n",
              "    </tr>\n",
              "    <tr>\n",
              "      <th>max</th>\n",
              "      <td>373.000000</td>\n",
              "      <td>7983.000000</td>\n",
              "      <td>256438.490000</td>\n",
              "    </tr>\n",
              "  </tbody>\n",
              "</table>\n",
              "</div>"
            ],
            "text/plain": [
              "           Recency    Frequency        Revenue\n",
              "count  3950.000000  3950.000000    3950.000000\n",
              "mean     90.778481    91.614684    1713.385669\n",
              "std     100.230349   220.557389    6548.608224\n",
              "min       0.000000     1.000000   -4287.630000\n",
              "25%      16.000000    17.000000     282.255000\n",
              "50%      49.000000    41.000000     627.060000\n",
              "75%     142.000000   101.000000    1521.782500\n",
              "max     373.000000  7983.000000  256438.490000"
            ]
          },
          "metadata": {},
          "execution_count": 133
        }
      ]
    },
    {
      "cell_type": "markdown",
      "metadata": {
        "id": "r8j5NQ5192PQ"
      },
      "source": [
        "After that we can use two kind of method to choose the best K for our cluster"
      ],
      "id": "r8j5NQ5192PQ"
    },
    {
      "cell_type": "markdown",
      "metadata": {
        "id": "x-GQVWeT9-SJ"
      },
      "source": [
        "## Elbow Method"
      ],
      "id": "x-GQVWeT9-SJ"
    },
    {
      "cell_type": "code",
      "metadata": {
        "colab": {
          "base_uri": "https://localhost:8080/",
          "height": 295
        },
        "id": "-fgvCu0pFKJr",
        "outputId": "18a1ef89-fadc-4c0d-c24c-044791f0e9d6"
      },
      "source": [
        "from sklearn.cluster import KMeans\n",
        "\n",
        "sse={}\n",
        "for k in range(1, 10):\n",
        "    kmeans = KMeans(n_clusters=k, max_iter=1000).fit(data_new)\n",
        "    sse[k] = kmeans.inertia_\n",
        "plt.figure()\n",
        "plt.plot(list(sse.keys()), list(sse.values()))\n",
        "plt.xlabel(\"Number of cluster\")\n",
        "plt.show()"
      ],
      "id": "-fgvCu0pFKJr",
      "execution_count": null,
      "outputs": [
        {
          "output_type": "display_data",
          "data": {
            "image/png": "[encoded data removed]",
            "text/plain": [
              "<Figure size 432x288 with 1 Axes>"
            ]
          },
          "metadata": {}
        }
      ]
    },
    {
      "cell_type": "markdown",
      "metadata": {
        "id": "_zIV_FgW-CEC"
      },
      "source": [
        "## Silhouette score"
      ],
      "id": "_zIV_FgW-CEC"
    },
    {
      "cell_type": "code",
      "metadata": {
        "colab": {
          "base_uri": "https://localhost:8080/",
          "height": 284
        },
        "id": "sNUQY7jFFHq4",
        "outputId": "c2401185-1977-4d12-db91-4133e86036ac"
      },
      "source": [
        "from sklearn.metrics import silhouette_score\n",
        "\n",
        "sil = {}\n",
        "kmax = 10\n",
        "\n",
        "# dissimilarity would not be defined for a single cluster, thus, minimum number of clusters should be from 2\n",
        "for k in range(2, kmax+1):\n",
        "  kmeans = KMeans(n_clusters = k).fit(data_new)\n",
        "  labels = kmeans.labels_\n",
        "  sil[k] = silhouette_score(data_new, labels, metric = 'euclidean')\n",
        "  \n",
        "plt.figure()\n",
        "plt.plot(list(sil.keys()), list(sil.values()))\n",
        "plt.xlabel(\"Number of cluster\")\n",
        "plt.show()"
      ],
      "id": "sNUQY7jFFHq4",
      "execution_count": null,
      "outputs": [
        {
          "output_type": "display_data",
          "data": {
            "image/png": "[encoded data removed]",
            "text/plain": [
              "<Figure size 432x288 with 1 Axes>"
            ]
          },
          "metadata": {}
        }
      ]
    },
    {
      "cell_type": "markdown",
      "metadata": {
        "id": "w4927Pfe-UWt"
      },
      "source": [
        "We can see that 2 and 3 seems to be a good cluster size\n",
        "\n",
        "For keeping the diversity of clustering, we used K = 3"
      ],
      "id": "w4927Pfe-UWt"
    },
    {
      "cell_type": "code",
      "metadata": {
        "colab": {
          "base_uri": "https://localhost:8080/",
          "height": 615
        },
        "id": "rq5owEKBGBW2",
        "outputId": "9befac92-9de4-4da8-a12a-ca789d5032f7"
      },
      "source": [
        "plt.figure(figsize=(12,10))\n",
        "sns.set_style(\"darkgrid\")\n",
        "sns.scatterplot(data=k_test\n",
        "                               , x=\"Frequency\", y=\"Revenue\", hue=\"Cluster\", palette=\"bright\");"
      ],
      "id": "rq5owEKBGBW2",
      "execution_count": null,
      "outputs": [
        {
          "output_type": "display_data",
          "data": {
            "image/png": "[encoded data removed]",
            "text/plain": [
              "<Figure size 864x720 with 1 Axes>"
            ]
          },
          "metadata": {}
        }
      ]
    },
    {
      "cell_type": "code",
      "metadata": {
        "colab": {
          "base_uri": "https://localhost:8080/",
          "height": 615
        },
        "id": "t1Oh1zvJGjPd",
        "outputId": "6259b6dd-8aca-45f7-877f-4d5ed2c15100"
      },
      "source": [
        "plt.figure(figsize=(12,10))\n",
        "sns.scatterplot(data=k_test\n",
        "                               , x=\"Frequency\", y=\"Revenue\", hue=\"Cluster\", palette=\"tab10\");"
      ],
      "id": "t1Oh1zvJGjPd",
      "execution_count": null,
      "outputs": [
        {
          "output_type": "display_data",
          "data": {
            "image/png": "[encoded data removed]",
            "text/plain": [
              "<Figure size 864x720 with 1 Axes>"
            ]
          },
          "metadata": {}
        }
      ]
    }
  ]
}